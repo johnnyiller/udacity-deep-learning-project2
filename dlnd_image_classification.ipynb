{
 "cells": [
  {
   "cell_type": "markdown",
   "metadata": {
    "collapsed": true,
    "deletable": true,
    "editable": true
   },
   "source": [
    "# Image Classification\n",
    "In this project, you'll classify images from the [CIFAR-10 dataset](https://www.cs.toronto.edu/~kriz/cifar.html).  The dataset consists of airplanes, dogs, cats, and other objects. You'll preprocess the images, then train a convolutional neural network on all the samples. The images need to be normalized and the labels need to be one-hot encoded.  You'll get to apply what you learned and build a convolutional, max pooling, dropout, and fully connected layers.  At the end, you'll get to see your neural network's predictions on the sample images.\n",
    "## Get the Data\n",
    "Run the following cell to download the [CIFAR-10 dataset for python](https://www.cs.toronto.edu/~kriz/cifar-10-python.tar.gz)."
   ]
  },
  {
   "cell_type": "code",
   "execution_count": 1,
   "metadata": {
    "collapsed": false,
    "deletable": true,
    "editable": true
   },
   "outputs": [
    {
     "name": "stdout",
     "output_type": "stream",
     "text": [
      "All files found!\n"
     ]
    }
   ],
   "source": [
    "\"\"\"\n",
    "DON'T MODIFY ANYTHING IN THIS CELL THAT IS BELOW THIS LINE\n",
    "\"\"\"\n",
    "from urllib.request import urlretrieve\n",
    "from os.path import isfile, isdir\n",
    "from tqdm import tqdm\n",
    "import problem_unittests as tests\n",
    "import tarfile\n",
    "\n",
    "cifar10_dataset_folder_path = 'cifar-10-batches-py'\n",
    "\n",
    "class DLProgress(tqdm):\n",
    "    last_block = 0\n",
    "\n",
    "    def hook(self, block_num=1, block_size=1, total_size=None):\n",
    "        self.total = total_size\n",
    "        self.update((block_num - self.last_block) * block_size)\n",
    "        self.last_block = block_num\n",
    "\n",
    "if not isfile('cifar-10-python.tar.gz'):\n",
    "    with DLProgress(unit='B', unit_scale=True, miniters=1, desc='CIFAR-10 Dataset') as pbar:\n",
    "        urlretrieve(\n",
    "            'https://www.cs.toronto.edu/~kriz/cifar-10-python.tar.gz',\n",
    "            'cifar-10-python.tar.gz',\n",
    "            pbar.hook)\n",
    "\n",
    "if not isdir(cifar10_dataset_folder_path):\n",
    "    with tarfile.open('cifar-10-python.tar.gz') as tar:\n",
    "        tar.extractall()\n",
    "        tar.close()\n",
    "\n",
    "\n",
    "tests.test_folder_path(cifar10_dataset_folder_path)"
   ]
  },
  {
   "cell_type": "markdown",
   "metadata": {
    "deletable": true,
    "editable": true
   },
   "source": [
    "## Explore the Data\n",
    "The dataset is broken into batches to prevent your machine from running out of memory.  The CIFAR-10 dataset consists of 5 batches, named `data_batch_1`, `data_batch_2`, etc.. Each batch contains the labels and images that are one of the following:\n",
    "* airplane\n",
    "* automobile\n",
    "* bird\n",
    "* cat\n",
    "* deer\n",
    "* dog\n",
    "* frog\n",
    "* horse\n",
    "* ship\n",
    "* truck\n",
    "\n",
    "Understanding a dataset is part of making predictions on the data.  Play around with the code cell below by changing the `batch_id` and `sample_id`. The `batch_id` is the id for a batch (1-5). The `sample_id` is the id for a image and label pair in the batch.\n",
    "\n",
    "Ask yourself \"What are all possible labels?\", \"What is the range of values for the image data?\", \"Are the labels in order or random?\".  Answers to questions like these will help you preprocess the data and end up with better predictions."
   ]
  },
  {
   "cell_type": "code",
   "execution_count": 30,
   "metadata": {
    "collapsed": false,
    "deletable": true,
    "editable": true
   },
   "outputs": [
    {
     "name": "stdout",
     "output_type": "stream",
     "text": [
      "\n",
      "Stats of batch 4:\n",
      "Samples: 10000\n",
      "Label Counts: {0: 1003, 1: 963, 2: 1041, 3: 976, 4: 1004, 5: 1021, 6: 1004, 7: 981, 8: 1024, 9: 983}\n",
      "First 20 Labels: [0, 6, 0, 2, 7, 2, 1, 2, 4, 1, 5, 6, 6, 3, 1, 3, 5, 5, 8, 1]\n",
      "\n",
      "Example of Image 1000:\n",
      "Image - Min Value: 29 Max Value: 255\n",
      "Image - Shape: (32, 32, 3)\n",
      "Label - Label Id: 0 Name: airplane\n"
     ]
    },
    {
     "data": {
      "image/png": "[encoded data removed]",
      "text/plain": [
       "<matplotlib.figure.Figure at 0x7fbbc876fcc0>"
      ]
     },
     "metadata": {
      "image/png": {
       "height": 250,
       "width": 253
      }
     },
     "output_type": "display_data"
    }
   ],
   "source": [
    "%matplotlib inline\n",
    "%config InlineBackend.figure_format = 'retina'\n",
    "\n",
    "import helper\n",
    "import numpy as np\n",
    "\n",
    "# Explore the dataset\n",
    "batch_id = 4\n",
    "sample_id = 1000\n",
    "helper.display_stats(cifar10_dataset_folder_path, batch_id, sample_id)"
   ]
  },
  {
   "cell_type": "markdown",
   "metadata": {
    "deletable": true,
    "editable": true
   },
   "source": [
    "## Implement Preprocess Functions\n",
    "### Normalize\n",
    "In the cell below, implement the `normalize` function to take in image data, `x`, and return it as a normalized Numpy array. The values should be in the range of 0 to 1, inclusive.  The return object should be the same shape as `x`."
   ]
  },
  {
   "cell_type": "code",
   "execution_count": 31,
   "metadata": {
    "collapsed": false,
    "deletable": true,
    "editable": true
   },
   "outputs": [
    {
     "name": "stdout",
     "output_type": "stream",
     "text": [
      "Tests Passed\n"
     ]
    }
   ],
   "source": [
    "def normalize(x):\n",
    "    \"\"\"\n",
    "    Normalize a list of sample image data in the range of 0 to 1\n",
    "    : x: List of image data.  The image shape is (32, 32, 3)\n",
    "    : return: Numpy array of normalize data\n",
    "    \"\"\"\n",
    "    return np.array(x) / 255\n",
    "\n",
    "\n",
    "\"\"\"\n",
    "DON'T MODIFY ANYTHING IN THIS CELL THAT IS BELOW THIS LINE\n",
    "\"\"\"\n",
    "tests.test_normalize(normalize)"
   ]
  },
  {
   "cell_type": "markdown",
   "metadata": {
    "deletable": true,
    "editable": true
   },
   "source": [
    "### One-hot encode\n",
    "Just like the previous code cell, you'll be implementing a function for preprocessing.  This time, you'll implement the `one_hot_encode` function. The input, `x`, are a list of labels.  Implement the function to return the list of labels as One-Hot encoded Numpy array.  The possible values for labels are 0 to 9. The one-hot encoding function should return the same encoding for each value between each call to `one_hot_encode`.  Make sure to save the map of encodings outside the function.\n",
    "\n",
    "Hint: Don't reinvent the wheel."
   ]
  },
  {
   "cell_type": "code",
   "execution_count": 32,
   "metadata": {
    "collapsed": false,
    "deletable": true,
    "editable": true
   },
   "outputs": [
    {
     "name": "stdout",
     "output_type": "stream",
     "text": [
      "Tests Passed\n"
     ]
    }
   ],
   "source": [
    "def one_hot_encode(x):\n",
    "    \"\"\"\n",
    "    One hot encode a list of sample labels. Return a one-hot encoded vector for each label.\n",
    "    : x: List of sample Labels\n",
    "    : return: Numpy array of one-hot encoded labels\n",
    "    \"\"\"\n",
    "    a = np.array(x)\n",
    "    alen = len(a)\n",
    "    b = np.zeros((alen, 10))\n",
    "    b[np.arange(alen), a] = 1\n",
    "    return b\n",
    "\n",
    "\n",
    "\"\"\"\n",
    "DON'T MODIFY ANYTHING IN THIS CELL THAT IS BELOW THIS LINE\n",
    "\"\"\"\n",
    "tests.test_one_hot_encode(one_hot_encode)"
   ]
  },
  {
   "cell_type": "markdown",
   "metadata": {
    "deletable": true,
    "editable": true
   },
   "source": [
    "### Randomize Data\n",
    "As you saw from exploring the data above, the order of the samples are randomized.  It doesn't hurt to randomize it again, but you don't need to for this dataset."
   ]
  },
  {
   "cell_type": "markdown",
   "metadata": {
    "deletable": true,
    "editable": true
   },
   "source": [
    "## Preprocess all the data and save it\n",
    "Running the code cell below will preprocess all the CIFAR-10 data and save it to file. The code below also uses 10% of the training data for validation."
   ]
  },
  {
   "cell_type": "code",
   "execution_count": 33,
   "metadata": {
    "collapsed": false,
    "deletable": true,
    "editable": true
   },
   "outputs": [],
   "source": [
    "\"\"\"\n",
    "DON'T MODIFY ANYTHING IN THIS CELL\n",
    "\"\"\"\n",
    "# Preprocess Training, Validation, and Testing Data\n",
    "helper.preprocess_and_save_data(cifar10_dataset_folder_path, normalize, one_hot_encode)"
   ]
  },
  {
   "cell_type": "markdown",
   "metadata": {
    "deletable": true,
    "editable": true
   },
   "source": [
    "# Check Point\n",
    "This is your first checkpoint.  If you ever decide to come back to this notebook or have to restart the notebook, you can start from here.  The preprocessed data has been saved to disk."
   ]
  },
  {
   "cell_type": "code",
   "execution_count": 2,
   "metadata": {
    "collapsed": true,
    "deletable": true,
    "editable": true
   },
   "outputs": [],
   "source": [
    "\"\"\"\n",
    "DON'T MODIFY ANYTHING IN THIS CELL\n",
    "\"\"\"\n",
    "import pickle\n",
    "import problem_unittests as tests\n",
    "import helper\n",
    "\n",
    "# Load the Preprocessed Validation data\n",
    "valid_features, valid_labels = pickle.load(open('preprocess_validation.p', mode='rb'))"
   ]
  },
  {
   "cell_type": "markdown",
   "metadata": {
    "deletable": true,
    "editable": true
   },
   "source": [
    "## Build the network\n",
    "For the neural network, you'll build each layer into a function.  Most of the code you've seen has been outside of functions. To test your code more thoroughly, we require that you put each layer in a function.  This allows us to give you better feedback and test for simple mistakes using our unittests before you submit your project.\n",
    "\n",
    ">**Note:** If you're finding it hard to dedicate enough time for this course each week, we've provided a small shortcut to this part of the project. In the next couple of problems, you'll have the option to use classes from the [TensorFlow Layers](https://www.tensorflow.org/api_docs/python/tf/layers) or [TensorFlow Layers (contrib)](https://www.tensorflow.org/api_guides/python/contrib.layers) packages to build each layer, except the layers you build in the \"Convolutional and Max Pooling Layer\" section.  TF Layers is similar to Keras's and TFLearn's abstraction to layers, so it's easy to pickup.\n",
    "\n",
    ">However, if you would like to get the most out of this course, try to solve all the problems _without_ using anything from the TF Layers packages. You **can** still use classes from other packages that happen to have the same name as ones you find in TF Layers! For example, instead of using the TF Layers version of the `conv2d` class, [tf.layers.conv2d](https://www.tensorflow.org/api_docs/python/tf/layers/conv2d), you would want to use the TF Neural Network version of `conv2d`, [tf.nn.conv2d](https://www.tensorflow.org/api_docs/python/tf/nn/conv2d). \n",
    "\n",
    "Let's begin!\n",
    "\n",
    "### Input\n",
    "The neural network needs to read the image data, one-hot encoded labels, and dropout keep probability. Implement the following functions\n",
    "* Implement `neural_net_image_input`\n",
    " * Return a [TF Placeholder](https://www.tensorflow.org/api_docs/python/tf/placeholder)\n",
    " * Set the shape using `image_shape` with batch size set to `None`.\n",
    " * Name the TensorFlow placeholder \"x\" using the TensorFlow `name` parameter in the [TF Placeholder](https://www.tensorflow.org/api_docs/python/tf/placeholder).\n",
    "* Implement `neural_net_label_input`\n",
    " * Return a [TF Placeholder](https://www.tensorflow.org/api_docs/python/tf/placeholder)\n",
    " * Set the shape using `n_classes` with batch size set to `None`.\n",
    " * Name the TensorFlow placeholder \"y\" using the TensorFlow `name` parameter in the [TF Placeholder](https://www.tensorflow.org/api_docs/python/tf/placeholder).\n",
    "* Implement `neural_net_keep_prob_input`\n",
    " * Return a [TF Placeholder](https://www.tensorflow.org/api_docs/python/tf/placeholder) for dropout keep probability.\n",
    " * Name the TensorFlow placeholder \"keep_prob\" using the TensorFlow `name` parameter in the [TF Placeholder](https://www.tensorflow.org/api_docs/python/tf/placeholder).\n",
    "\n",
    "These names will be used at the end of the project to load your saved model.\n",
    "\n",
    "Note: `None` for shapes in TensorFlow allow for a dynamic size."
   ]
  },
  {
   "cell_type": "code",
   "execution_count": 3,
   "metadata": {
    "collapsed": false,
    "deletable": true,
    "editable": true
   },
   "outputs": [
    {
     "name": "stdout",
     "output_type": "stream",
     "text": [
      "Image Input Tests Passed.\n",
      "Label Input Tests Passed.\n",
      "Keep Prob Tests Passed.\n"
     ]
    }
   ],
   "source": [
    "import tensorflow as tf\n",
    "\n",
    "def neural_net_image_input(image_shape):\n",
    "    \"\"\"\n",
    "    Return a Tensor for a bach of image input\n",
    "    : image_shape: Shape of the images\n",
    "    : return: Tensor for image input.\n",
    "    \"\"\"\n",
    "    #print(image_shape)\n",
    "    # TODO: Implement Function\n",
    "    return tf.placeholder(tf.float32, name=\"x\", shape=[None, image_shape[0], image_shape[1], image_shape[2]])\n",
    "\n",
    "\n",
    "def neural_net_label_input(n_classes):\n",
    "    \"\"\"\n",
    "    Return a Tensor for a batch of label input\n",
    "    : n_classes: Number of classes\n",
    "    : return: Tensor for label input.\n",
    "    \"\"\"\n",
    "    # TODO: Implement Function\n",
    "    return tf.placeholder(tf.float32, name=\"y\", shape=[None, n_classes])\n",
    "\n",
    "\n",
    "def neural_net_keep_prob_input():\n",
    "    \"\"\"\n",
    "    Return a Tensor for keep probability\n",
    "    : return: Tensor for keep probability.\n",
    "    \"\"\"\n",
    "    # TODO: Implement Function\n",
    "    return tf.placeholder(tf.float32, name=\"keep_prob\")\n",
    "\n",
    "\n",
    "\"\"\"\n",
    "DON'T MODIFY ANYTHING IN THIS CELL THAT IS BELOW THIS LINE\n",
    "\"\"\"\n",
    "tf.reset_default_graph()\n",
    "tests.test_nn_image_inputs(neural_net_image_input)\n",
    "tests.test_nn_label_inputs(neural_net_label_input)\n",
    "tests.test_nn_keep_prob_inputs(neural_net_keep_prob_input)"
   ]
  },
  {
   "cell_type": "markdown",
   "metadata": {
    "deletable": true,
    "editable": true
   },
   "source": [
    "### Convolution and Max Pooling Layer\n",
    "Convolution layers have a lot of success with images. For this code cell, you should implement the function `conv2d_maxpool` to apply convolution then max pooling:\n",
    "* Create the weight and bias using `conv_ksize`, `conv_num_outputs` and the shape of `x_tensor`.\n",
    "* Apply a convolution to `x_tensor` using weight and `conv_strides`.\n",
    " * We recommend you use same padding, but you're welcome to use any padding.\n",
    "* Add bias\n",
    "* Add a nonlinear activation to the convolution.\n",
    "* Apply Max Pooling using `pool_ksize` and `pool_strides`.\n",
    " * We recommend you use same padding, but you're welcome to use any padding.\n",
    "\n",
    "**Note:** You **can't** use [TensorFlow Layers](https://www.tensorflow.org/api_docs/python/tf/layers) or [TensorFlow Layers (contrib)](https://www.tensorflow.org/api_guides/python/contrib.layers) for **this** layer, but you can still use TensorFlow's [Neural Network](https://www.tensorflow.org/api_docs/python/tf/nn) package. You may still use the shortcut option for all the **other** layers."
   ]
  },
  {
   "cell_type": "code",
   "execution_count": 4,
   "metadata": {
    "collapsed": false,
    "deletable": true,
    "editable": true
   },
   "outputs": [
    {
     "name": "stdout",
     "output_type": "stream",
     "text": [
      "Tests Passed\n"
     ]
    }
   ],
   "source": [
    "def conv2d_maxpool(x_tensor, conv_num_outputs, conv_ksize, conv_strides, pool_ksize, pool_strides):\n",
    "    \"\"\"\n",
    "    Apply convolution then max pooling to x_tensor\n",
    "    :param x_tensor: TensorFlow Tensor\n",
    "    :param conv_num_outputs: Number of outputs for the convolutional layer\n",
    "    :param conv_ksize: kernal size 2-D Tuple for the convolutional layer\n",
    "    :param conv_strides: Stride 2-D Tuple for convolution\n",
    "    :param pool_ksize: kernal size 2-D Tuple for pool\n",
    "    :param pool_strides: Stride 2-D Tuple for pool\n",
    "    : return: A tensor that represents convolution and max pooling of x_tensor\n",
    "    \"\"\"\n",
    "    input_channels = x_tensor.get_shape()\n",
    "    W = tf.Variable(tf.random_normal([conv_ksize[0], conv_ksize[1],int(input_channels[-1]),conv_num_outputs], mean=0.0, stddev=0.1))\n",
    "    b = tf.Variable(tf.zeros([conv_num_outputs]))\n",
    "    x_tensor = tf.nn.conv2d(x_tensor, W, strides=[1,conv_strides[0],conv_strides[1],1], padding='SAME')\n",
    "    x_tensor = tf.nn.bias_add(x_tensor, b)\n",
    "    x_tensor = tf.nn.relu(x_tensor)\n",
    "    x_tensor = tf.nn.max_pool(x_tensor, ksize=[1, pool_ksize[0], pool_ksize[1], 1], strides=[1, pool_strides[0], pool_strides[1], 1], padding='SAME')\n",
    "    #covnet = tf.nn.conv2d(x_tensor, )\n",
    "    # TODO: Implement Function\n",
    "    return x_tensor \n",
    "\n",
    "\n",
    "\"\"\"\n",
    "DON'T MODIFY ANYTHING IN THIS CELL THAT IS BELOW THIS LINE\n",
    "\"\"\"\n",
    "tests.test_con_pool(conv2d_maxpool)"
   ]
  },
  {
   "cell_type": "markdown",
   "metadata": {
    "deletable": true,
    "editable": true
   },
   "source": [
    "### Flatten Layer\n",
    "Implement the `flatten` function to change the dimension of `x_tensor` from a 4-D tensor to a 2-D tensor.  The output should be the shape (*Batch Size*, *Flattened Image Size*). Shortcut option: you can use classes from the [TensorFlow Layers](https://www.tensorflow.org/api_docs/python/tf/layers) or [TensorFlow Layers (contrib)](https://www.tensorflow.org/api_guides/python/contrib.layers) packages for this layer. For more of a challenge, only use other TensorFlow packages."
   ]
  },
  {
   "cell_type": "code",
   "execution_count": 5,
   "metadata": {
    "collapsed": false,
    "deletable": true,
    "editable": true
   },
   "outputs": [
    {
     "name": "stdout",
     "output_type": "stream",
     "text": [
      "Tests Passed\n"
     ]
    }
   ],
   "source": [
    "def flatten(x_tensor):\n",
    "    \"\"\"\n",
    "    Flatten x_tensor to (Batch Size, Flattened Image Size)\n",
    "    : x_tensor: A tensor of size (Batch Size, ...), where ... are the image dimensions.\n",
    "    : return: A tensor of size (Batch Size, Flattened Image Size).\n",
    "    \"\"\"\n",
    "    # TODO: Implement Function\n",
    "    return tf.contrib.layers.flatten(x_tensor)\n",
    "\n",
    "\n",
    "\"\"\"\n",
    "DON'T MODIFY ANYTHING IN THIS CELL THAT IS BELOW THIS LINE\n",
    "\"\"\"\n",
    "tests.test_flatten(flatten)"
   ]
  },
  {
   "cell_type": "markdown",
   "metadata": {
    "deletable": true,
    "editable": true
   },
   "source": [
    "### Fully-Connected Layer\n",
    "Implement the `fully_conn` function to apply a fully connected layer to `x_tensor` with the shape (*Batch Size*, *num_outputs*). Shortcut option: you can use classes from the [TensorFlow Layers](https://www.tensorflow.org/api_docs/python/tf/layers) or [TensorFlow Layers (contrib)](https://www.tensorflow.org/api_guides/python/contrib.layers) packages for this layer. For more of a challenge, only use other TensorFlow packages."
   ]
  },
  {
   "cell_type": "code",
   "execution_count": 6,
   "metadata": {
    "collapsed": false,
    "deletable": true,
    "editable": true
   },
   "outputs": [
    {
     "name": "stdout",
     "output_type": "stream",
     "text": [
      "Tests Passed\n"
     ]
    }
   ],
   "source": [
    "def fully_conn(x_tensor, num_outputs):\n",
    "    \"\"\"\n",
    "    Apply a fully connected layer to x_tensor using weight and bias\n",
    "    : x_tensor: A 2-D tensor where the first dimension is batch size.\n",
    "    : num_outputs: The number of output that the new tensor should be.\n",
    "    : return: A 2-D tensor where the second dimension is num_outputs.\n",
    "    \"\"\"\n",
    "    # TODO: Implement Function\n",
    "    return tf.contrib.layers.fully_connected(x_tensor, num_outputs=num_outputs)\n",
    "\n",
    "\n",
    "\"\"\"\n",
    "DON'T MODIFY ANYTHING IN THIS CELL THAT IS BELOW THIS LINE\n",
    "\"\"\"\n",
    "tests.test_fully_conn(fully_conn)"
   ]
  },
  {
   "cell_type": "markdown",
   "metadata": {
    "deletable": true,
    "editable": true
   },
   "source": [
    "### Output Layer\n",
    "Implement the `output` function to apply a fully connected layer to `x_tensor` with the shape (*Batch Size*, *num_outputs*). Shortcut option: you can use classes from the [TensorFlow Layers](https://www.tensorflow.org/api_docs/python/tf/layers) or [TensorFlow Layers (contrib)](https://www.tensorflow.org/api_guides/python/contrib.layers) packages for this layer. For more of a challenge, only use other TensorFlow packages.\n",
    "\n",
    "**Note:** Activation, softmax, or cross entropy should **not** be applied to this."
   ]
  },
  {
   "cell_type": "code",
   "execution_count": 7,
   "metadata": {
    "collapsed": false,
    "deletable": true,
    "editable": true
   },
   "outputs": [
    {
     "name": "stdout",
     "output_type": "stream",
     "text": [
      "Tests Passed\n"
     ]
    }
   ],
   "source": [
    "def output(x_tensor, num_outputs):\n",
    "    \"\"\"\n",
    "    Apply a output layer to x_tensor using weight and bias\n",
    "    : x_tensor: A 2-D tensor where the first dimension is batch size.\n",
    "    : num_outputs: The number of output that the new tensor should be.\n",
    "    : return: A 2-D tensor where the second dimension is num_outputs.\n",
    "    \"\"\"\n",
    "    # TODO: Implement Function\n",
    "    return tf.contrib.layers.fully_connected(x_tensor, num_outputs=num_outputs, activation_fn=None)\n",
    "\n",
    "\n",
    "\"\"\"\n",
    "DON'T MODIFY ANYTHING IN THIS CELL THAT IS BELOW THIS LINE\n",
    "\"\"\"\n",
    "tests.test_output(output)"
   ]
  },
  {
   "cell_type": "markdown",
   "metadata": {
    "deletable": true,
    "editable": true
   },
   "source": [
    "### Create Convolutional Model\n",
    "Implement the function `conv_net` to create a convolutional neural network model. The function takes in a batch of images, `x`, and outputs logits.  Use the layers you created above to create this model:\n",
    "\n",
    "* Apply 1, 2, or 3 Convolution and Max Pool layers\n",
    "* Apply a Flatten Layer\n",
    "* Apply 1, 2, or 3 Fully Connected Layers\n",
    "* Apply an Output Layer\n",
    "* Return the output\n",
    "* Apply [TensorFlow's Dropout](https://www.tensorflow.org/api_docs/python/tf/nn/dropout) to one or more layers in the model using `keep_prob`. "
   ]
  },
  {
   "cell_type": "code",
   "execution_count": 8,
   "metadata": {
    "collapsed": false,
    "deletable": true,
    "editable": true
   },
   "outputs": [
    {
     "name": "stdout",
     "output_type": "stream",
     "text": [
      "Neural Network Built!\n"
     ]
    }
   ],
   "source": [
    "def conv_net(x, keep_prob):\n",
    "    \"\"\"\n",
    "    Create a convolutional neural network model\n",
    "    : x: Placeholder tensor that holds image data.\n",
    "    : keep_prob: Placeholder tensor that hold dropout keep probability.\n",
    "    : return: Tensor that represents logits\n",
    "    \"\"\"\n",
    "    # TODO: Apply 1, 2, or 3 Convolution and Max Pool layers\n",
    "    #    Play around with different number of outputs, kernel size and stride\n",
    "    # Function Definition from Above:\n",
    "    #    conv2d_maxpool(x_tensor, conv_num_outputs, conv_ksize, conv_strides, pool_ksize, pool_strides)\n",
    "    x = conv2d_maxpool(x, 64, (4,4), (2,2), (2,2), (2,2))\n",
    "    x = conv2d_maxpool(x, 128, (4,4), (2,2), (2,2), (2,2))\n",
    "    x = flatten(x)\n",
    "    x = fully_conn(x, 512)\n",
    "    x = tf.nn.dropout(x, keep_prob)\n",
    "    x = output(x, 10)\n",
    "    \n",
    "\n",
    "    # TODO: Apply a Flatten Layer\n",
    "    # Function Definition from Above:\n",
    "    #   flatten(x_tensor)\n",
    "    \n",
    "\n",
    "    # TODO: Apply 1, 2, or 3 Fully Connected Layers\n",
    "    #    Play around with different number of outputs\n",
    "    # Function Definition from Above:\n",
    "    #   fully_conn(x_tensor, num_outputs)\n",
    "    \n",
    "    \n",
    "    # TODO: Apply an Output Layer\n",
    "    #    Set this to the number of classes\n",
    "    # Function Definition from Above:\n",
    "    #   output(x_tensor, num_outputs)\n",
    "    \n",
    "    \n",
    "    # TODO: return output\n",
    "    return x\n",
    "\n",
    "\n",
    "\"\"\"\n",
    "DON'T MODIFY ANYTHING IN THIS CELL THAT IS BELOW THIS LINE\n",
    "\"\"\"\n",
    "\n",
    "##############################\n",
    "## Build the Neural Network ##\n",
    "##############################\n",
    "\n",
    "# Remove previous weights, bias, inputs, etc..\n",
    "tf.reset_default_graph()\n",
    "\n",
    "# Inputs\n",
    "x = neural_net_image_input((32, 32, 3))\n",
    "y = neural_net_label_input(10)\n",
    "keep_prob = neural_net_keep_prob_input()\n",
    "\n",
    "# Model\n",
    "logits = conv_net(x, keep_prob)\n",
    "\n",
    "# Name logits Tensor, so that is can be loaded from disk after training\n",
    "logits = tf.identity(logits, name='logits')\n",
    "\n",
    "# Loss and Optimizer\n",
    "cost = tf.reduce_mean(tf.nn.softmax_cross_entropy_with_logits(logits=logits, labels=y))\n",
    "optimizer = tf.train.AdamOptimizer().minimize(cost)\n",
    "\n",
    "# Accuracy\n",
    "correct_pred = tf.equal(tf.argmax(logits, 1), tf.argmax(y, 1))\n",
    "accuracy = tf.reduce_mean(tf.cast(correct_pred, tf.float32), name='accuracy')\n",
    "\n",
    "tests.test_conv_net(conv_net)"
   ]
  },
  {
   "cell_type": "markdown",
   "metadata": {
    "deletable": true,
    "editable": true
   },
   "source": [
    "## Train the Neural Network\n",
    "### Single Optimization\n",
    "Implement the function `train_neural_network` to do a single optimization.  The optimization should use `optimizer` to optimize in `session` with a `feed_dict` of the following:\n",
    "* `x` for image input\n",
    "* `y` for labels\n",
    "* `keep_prob` for keep probability for dropout\n",
    "\n",
    "This function will be called for each batch, so `tf.global_variables_initializer()` has already been called.\n",
    "\n",
    "Note: Nothing needs to be returned. This function is only optimizing the neural network."
   ]
  },
  {
   "cell_type": "code",
   "execution_count": 9,
   "metadata": {
    "collapsed": false,
    "deletable": true,
    "editable": true
   },
   "outputs": [
    {
     "name": "stdout",
     "output_type": "stream",
     "text": [
      "Tests Passed\n"
     ]
    }
   ],
   "source": [
    "def train_neural_network(session, optimizer, keep_probability, feature_batch, label_batch):\n",
    "    \"\"\"\n",
    "    Optimize the session on a batch of images and labels\n",
    "    : session: Current TensorFlow session\n",
    "    : optimizer: TensorFlow optimizer function\n",
    "    : keep_probability: keep probability\n",
    "    : feature_batch: Batch of Numpy image data\n",
    "    : label_batch: Batch of Numpy label data\n",
    "    \"\"\"\n",
    "    session.run(optimizer, feed_dict={x: feature_batch, y: label_batch, keep_prob: keep_probability})\n",
    "\n",
    "\n",
    "\"\"\"\n",
    "DON'T MODIFY ANYTHING IN THIS CELL THAT IS BELOW THIS LINE\n",
    "\"\"\"\n",
    "tests.test_train_nn(train_neural_network)"
   ]
  },
  {
   "cell_type": "markdown",
   "metadata": {
    "deletable": true,
    "editable": true
   },
   "source": [
    "### Show Stats\n",
    "Implement the function `print_stats` to print loss and validation accuracy.  Use the global variables `valid_features` and `valid_labels` to calculate validation accuracy.  Use a keep probability of `1.0` to calculate the loss and validation accuracy."
   ]
  },
  {
   "cell_type": "code",
   "execution_count": 10,
   "metadata": {
    "collapsed": false,
    "deletable": true,
    "editable": true
   },
   "outputs": [],
   "source": [
    "def print_stats(session, feature_batch, label_batch, cost, accuracy):\n",
    "    \"\"\"\n",
    "    Print information about loss and validation accuracy\n",
    "    : session: Current TensorFlow session\n",
    "    : feature_batch: Batch of Numpy image data\n",
    "    : label_batch: Batch of Numpy label data\n",
    "    : cost: TensorFlow cost function\n",
    "    : accuracy: TensorFlow accuracy function\n",
    "    \"\"\"\n",
    "    loss = sess.run(cost, feed_dict={x: feature_batch, y: label_batch, keep_prob: 1.})\n",
    "    valid = sess.run(accuracy, feed_dict={x: valid_features, y: valid_labels, keep_prob: 1.})\n",
    "    print('Loss: {:>10.4f} Validation Accuracy: {:.6f}'.format(loss, valid))\n",
    "    # TODO: Implement Function\n",
    "    "
   ]
  },
  {
   "cell_type": "markdown",
   "metadata": {
    "deletable": true,
    "editable": true
   },
   "source": [
    "### Hyperparameters\n",
    "Tune the following parameters:\n",
    "* Set `epochs` to the number of iterations until the network stops learning or start overfitting\n",
    "* Set `batch_size` to the highest number that your machine has memory for.  Most people set them to common sizes of memory:\n",
    " * 64\n",
    " * 128\n",
    " * 256\n",
    " * ...\n",
    "* Set `keep_probability` to the probability of keeping a node using dropout"
   ]
  },
  {
   "cell_type": "code",
   "execution_count": 11,
   "metadata": {
    "collapsed": true,
    "deletable": true,
    "editable": true
   },
   "outputs": [],
   "source": [
    "# TODO: Tune Parameters\n",
    "epochs = 50\n",
    "batch_size = 2048\n",
    "keep_probability = 0.65"
   ]
  },
  {
   "cell_type": "markdown",
   "metadata": {
    "deletable": true,
    "editable": true
   },
   "source": [
    "### Train on a Single CIFAR-10 Batch\n",
    "Instead of training the neural network on all the CIFAR-10 batches of data, let's use a single batch. This should save time while you iterate on the model to get a better accuracy.  Once the final validation accuracy is 50% or greater, run the model on all the data in the next section."
   ]
  },
  {
   "cell_type": "code",
   "execution_count": 12,
   "metadata": {
    "collapsed": false,
    "deletable": true,
    "editable": true
   },
   "outputs": [
    {
     "name": "stdout",
     "output_type": "stream",
     "text": [
      "Checking the Training on a Single Batch...\n",
      "Epoch  1, CIFAR-10 Batch 1:  Loss:     2.2500 Validation Accuracy: 0.156800\n",
      "Epoch  2, CIFAR-10 Batch 1:  Loss:     2.1146 Validation Accuracy: 0.228200\n",
      "Epoch  3, CIFAR-10 Batch 1:  Loss:     1.9952 Validation Accuracy: 0.317600\n",
      "Epoch  4, CIFAR-10 Batch 1:  Loss:     1.8717 Validation Accuracy: 0.340000\n",
      "Epoch  5, CIFAR-10 Batch 1:  Loss:     1.7803 Validation Accuracy: 0.376200\n",
      "Epoch  6, CIFAR-10 Batch 1:  Loss:     1.7097 Validation Accuracy: 0.382200\n",
      "Epoch  7, CIFAR-10 Batch 1:  Loss:     1.6452 Validation Accuracy: 0.395000\n",
      "Epoch  8, CIFAR-10 Batch 1:  Loss:     1.5850 Validation Accuracy: 0.419400\n",
      "Epoch  9, CIFAR-10 Batch 1:  Loss:     1.5249 Validation Accuracy: 0.435200\n",
      "Epoch 10, CIFAR-10 Batch 1:  Loss:     1.4695 Validation Accuracy: 0.440600\n",
      "Epoch 11, CIFAR-10 Batch 1:  Loss:     1.4103 Validation Accuracy: 0.452400\n",
      "Epoch 12, CIFAR-10 Batch 1:  Loss:     1.3602 Validation Accuracy: 0.461200\n",
      "Epoch 13, CIFAR-10 Batch 1:  Loss:     1.3201 Validation Accuracy: 0.470800\n",
      "Epoch 14, CIFAR-10 Batch 1:  Loss:     1.2664 Validation Accuracy: 0.476000\n",
      "Epoch 15, CIFAR-10 Batch 1:  Loss:     1.2394 Validation Accuracy: 0.480000\n",
      "Epoch 16, CIFAR-10 Batch 1:  Loss:     1.1945 Validation Accuracy: 0.485200\n",
      "Epoch 17, CIFAR-10 Batch 1:  Loss:     1.1478 Validation Accuracy: 0.494400\n",
      "Epoch 18, CIFAR-10 Batch 1:  Loss:     1.1390 Validation Accuracy: 0.482800\n",
      "Epoch 19, CIFAR-10 Batch 1:  Loss:     1.0979 Validation Accuracy: 0.489000\n",
      "Epoch 20, CIFAR-10 Batch 1:  Loss:     1.0571 Validation Accuracy: 0.504600\n",
      "Epoch 21, CIFAR-10 Batch 1:  Loss:     1.0215 Validation Accuracy: 0.515200\n",
      "Epoch 22, CIFAR-10 Batch 1:  Loss:     1.0096 Validation Accuracy: 0.513400\n",
      "Epoch 23, CIFAR-10 Batch 1:  Loss:     0.9705 Validation Accuracy: 0.519000\n",
      "Epoch 24, CIFAR-10 Batch 1:  Loss:     0.9401 Validation Accuracy: 0.529000\n",
      "Epoch 25, CIFAR-10 Batch 1:  Loss:     0.9069 Validation Accuracy: 0.527400\n",
      "Epoch 26, CIFAR-10 Batch 1:  Loss:     0.8786 Validation Accuracy: 0.525800\n",
      "Epoch 27, CIFAR-10 Batch 1:  Loss:     0.8565 Validation Accuracy: 0.529800\n",
      "Epoch 28, CIFAR-10 Batch 1:  Loss:     0.8340 Validation Accuracy: 0.532800\n",
      "Epoch 29, CIFAR-10 Batch 1:  Loss:     0.8079 Validation Accuracy: 0.540400\n",
      "Epoch 30, CIFAR-10 Batch 1:  Loss:     0.8050 Validation Accuracy: 0.532800\n",
      "Epoch 31, CIFAR-10 Batch 1:  Loss:     0.7780 Validation Accuracy: 0.534200\n",
      "Epoch 32, CIFAR-10 Batch 1:  Loss:     0.7446 Validation Accuracy: 0.541200\n",
      "Epoch 33, CIFAR-10 Batch 1:  Loss:     0.7135 Validation Accuracy: 0.546800\n",
      "Epoch 34, CIFAR-10 Batch 1:  Loss:     0.6875 Validation Accuracy: 0.548400\n",
      "Epoch 35, CIFAR-10 Batch 1:  Loss:     0.6700 Validation Accuracy: 0.547000\n",
      "Epoch 36, CIFAR-10 Batch 1:  Loss:     0.6380 Validation Accuracy: 0.550800\n",
      "Epoch 37, CIFAR-10 Batch 1:  Loss:     0.6133 Validation Accuracy: 0.557600\n",
      "Epoch 38, CIFAR-10 Batch 1:  Loss:     0.6002 Validation Accuracy: 0.552400\n",
      "Epoch 39, CIFAR-10 Batch 1:  Loss:     0.5864 Validation Accuracy: 0.549000\n",
      "Epoch 40, CIFAR-10 Batch 1:  Loss:     0.5623 Validation Accuracy: 0.553800\n",
      "Epoch 41, CIFAR-10 Batch 1:  Loss:     0.5459 Validation Accuracy: 0.551600\n",
      "Epoch 42, CIFAR-10 Batch 1:  Loss:     0.5210 Validation Accuracy: 0.554200\n",
      "Epoch 43, CIFAR-10 Batch 1:  Loss:     0.5109 Validation Accuracy: 0.556000\n",
      "Epoch 44, CIFAR-10 Batch 1:  Loss:     0.4952 Validation Accuracy: 0.554200\n",
      "Epoch 45, CIFAR-10 Batch 1:  Loss:     0.4921 Validation Accuracy: 0.552800\n",
      "Epoch 46, CIFAR-10 Batch 1:  Loss:     0.4889 Validation Accuracy: 0.552600\n",
      "Epoch 47, CIFAR-10 Batch 1:  Loss:     0.4634 Validation Accuracy: 0.551200\n",
      "Epoch 48, CIFAR-10 Batch 1:  Loss:     0.4381 Validation Accuracy: 0.559200\n",
      "Epoch 49, CIFAR-10 Batch 1:  Loss:     0.4189 Validation Accuracy: 0.558800\n",
      "Epoch 50, CIFAR-10 Batch 1:  Loss:     0.4161 Validation Accuracy: 0.558000\n"
     ]
    }
   ],
   "source": [
    "\"\"\"\n",
    "DON'T MODIFY ANYTHING IN THIS CELL\n",
    "\"\"\"\n",
    "print('Checking the Training on a Single Batch...')\n",
    "with tf.Session() as sess:\n",
    "    # Initializing the variables\n",
    "    sess.run(tf.global_variables_initializer())\n",
    "    \n",
    "    # Training cycle\n",
    "    for epoch in range(epochs):\n",
    "        batch_i = 1\n",
    "        for batch_features, batch_labels in helper.load_preprocess_training_batch(batch_i, batch_size):\n",
    "            train_neural_network(sess, optimizer, keep_probability, batch_features, batch_labels)\n",
    "        print('Epoch {:>2}, CIFAR-10 Batch {}:  '.format(epoch + 1, batch_i), end='')\n",
    "        print_stats(sess, batch_features, batch_labels, cost, accuracy)"
   ]
  },
  {
   "cell_type": "markdown",
   "metadata": {
    "deletable": true,
    "editable": true
   },
   "source": [
    "### Fully Train the Model\n",
    "Now that you got a good accuracy with a single CIFAR-10 batch, try it with all five batches."
   ]
  },
  {
   "cell_type": "code",
   "execution_count": 13,
   "metadata": {
    "collapsed": false,
    "deletable": true,
    "editable": true
   },
   "outputs": [
    {
     "name": "stdout",
     "output_type": "stream",
     "text": [
      "Training...\n",
      "Epoch  1, CIFAR-10 Batch 1:  Loss:     2.2192 Validation Accuracy: 0.187000\n",
      "Epoch  1, CIFAR-10 Batch 2:  Loss:     2.1844 Validation Accuracy: 0.159800\n",
      "Epoch  1, CIFAR-10 Batch 3:  Loss:     2.0783 Validation Accuracy: 0.250800\n",
      "Epoch  1, CIFAR-10 Batch 4:  Loss:     1.9443 Validation Accuracy: 0.298600\n",
      "Epoch  1, CIFAR-10 Batch 5:  Loss:     1.8735 Validation Accuracy: 0.325000\n",
      "Epoch  2, CIFAR-10 Batch 1:  Loss:     1.7959 Validation Accuracy: 0.378600\n",
      "Epoch  2, CIFAR-10 Batch 2:  Loss:     1.7308 Validation Accuracy: 0.384600\n",
      "Epoch  2, CIFAR-10 Batch 3:  Loss:     1.6516 Validation Accuracy: 0.404600\n",
      "Epoch  2, CIFAR-10 Batch 4:  Loss:     1.6215 Validation Accuracy: 0.423000\n",
      "Epoch  2, CIFAR-10 Batch 5:  Loss:     1.6259 Validation Accuracy: 0.423000\n",
      "Epoch  3, CIFAR-10 Batch 1:  Loss:     1.5453 Validation Accuracy: 0.443400\n",
      "Epoch  3, CIFAR-10 Batch 2:  Loss:     1.5303 Validation Accuracy: 0.444200\n",
      "Epoch  3, CIFAR-10 Batch 3:  Loss:     1.4751 Validation Accuracy: 0.449600\n",
      "Epoch  3, CIFAR-10 Batch 4:  Loss:     1.4605 Validation Accuracy: 0.458200\n",
      "Epoch  3, CIFAR-10 Batch 5:  Loss:     1.4579 Validation Accuracy: 0.479800\n",
      "Epoch  4, CIFAR-10 Batch 1:  Loss:     1.4074 Validation Accuracy: 0.483000\n",
      "Epoch  4, CIFAR-10 Batch 2:  Loss:     1.4139 Validation Accuracy: 0.484000\n",
      "Epoch  4, CIFAR-10 Batch 3:  Loss:     1.3750 Validation Accuracy: 0.482400\n",
      "Epoch  4, CIFAR-10 Batch 4:  Loss:     1.3618 Validation Accuracy: 0.487600\n",
      "Epoch  4, CIFAR-10 Batch 5:  Loss:     1.3467 Validation Accuracy: 0.507000\n",
      "Epoch  5, CIFAR-10 Batch 1:  Loss:     1.3062 Validation Accuracy: 0.510400\n",
      "Epoch  5, CIFAR-10 Batch 2:  Loss:     1.3207 Validation Accuracy: 0.509400\n",
      "Epoch  5, CIFAR-10 Batch 3:  Loss:     1.3045 Validation Accuracy: 0.495800\n",
      "Epoch  5, CIFAR-10 Batch 4:  Loss:     1.2688 Validation Accuracy: 0.513000\n",
      "Epoch  5, CIFAR-10 Batch 5:  Loss:     1.2501 Validation Accuracy: 0.529200\n",
      "Epoch  6, CIFAR-10 Batch 1:  Loss:     1.2316 Validation Accuracy: 0.537000\n",
      "Epoch  6, CIFAR-10 Batch 2:  Loss:     1.2569 Validation Accuracy: 0.520600\n",
      "Epoch  6, CIFAR-10 Batch 3:  Loss:     1.2037 Validation Accuracy: 0.520600\n",
      "Epoch  6, CIFAR-10 Batch 4:  Loss:     1.2137 Validation Accuracy: 0.528800\n",
      "Epoch  6, CIFAR-10 Batch 5:  Loss:     1.1745 Validation Accuracy: 0.546800\n",
      "Epoch  7, CIFAR-10 Batch 1:  Loss:     1.1578 Validation Accuracy: 0.541600\n",
      "Epoch  7, CIFAR-10 Batch 2:  Loss:     1.1701 Validation Accuracy: 0.554200\n",
      "Epoch  7, CIFAR-10 Batch 3:  Loss:     1.1328 Validation Accuracy: 0.546200\n",
      "Epoch  7, CIFAR-10 Batch 4:  Loss:     1.1403 Validation Accuracy: 0.550600\n",
      "Epoch  7, CIFAR-10 Batch 5:  Loss:     1.0942 Validation Accuracy: 0.564400\n",
      "Epoch  8, CIFAR-10 Batch 1:  Loss:     1.1038 Validation Accuracy: 0.564600\n",
      "Epoch  8, CIFAR-10 Batch 2:  Loss:     1.1130 Validation Accuracy: 0.563600\n",
      "Epoch  8, CIFAR-10 Batch 3:  Loss:     1.0663 Validation Accuracy: 0.564200\n",
      "Epoch  8, CIFAR-10 Batch 4:  Loss:     1.0792 Validation Accuracy: 0.559600\n",
      "Epoch  8, CIFAR-10 Batch 5:  Loss:     1.0384 Validation Accuracy: 0.572000\n",
      "Epoch  9, CIFAR-10 Batch 1:  Loss:     1.0523 Validation Accuracy: 0.573400\n",
      "Epoch  9, CIFAR-10 Batch 2:  Loss:     1.0527 Validation Accuracy: 0.575000\n",
      "Epoch  9, CIFAR-10 Batch 3:  Loss:     1.0034 Validation Accuracy: 0.574800\n",
      "Epoch  9, CIFAR-10 Batch 4:  Loss:     1.0150 Validation Accuracy: 0.574400\n",
      "Epoch  9, CIFAR-10 Batch 5:  Loss:     0.9812 Validation Accuracy: 0.581600\n",
      "Epoch 10, CIFAR-10 Batch 1:  Loss:     1.0086 Validation Accuracy: 0.581200\n",
      "Epoch 10, CIFAR-10 Batch 2:  Loss:     1.0046 Validation Accuracy: 0.586000\n",
      "Epoch 10, CIFAR-10 Batch 3:  Loss:     0.9531 Validation Accuracy: 0.586600\n",
      "Epoch 10, CIFAR-10 Batch 4:  Loss:     0.9608 Validation Accuracy: 0.588400\n",
      "Epoch 10, CIFAR-10 Batch 5:  Loss:     0.9327 Validation Accuracy: 0.592000\n",
      "Epoch 11, CIFAR-10 Batch 1:  Loss:     0.9613 Validation Accuracy: 0.593200\n",
      "Epoch 11, CIFAR-10 Batch 2:  Loss:     0.9540 Validation Accuracy: 0.603600\n",
      "Epoch 11, CIFAR-10 Batch 3:  Loss:     0.9063 Validation Accuracy: 0.595400\n",
      "Epoch 11, CIFAR-10 Batch 4:  Loss:     0.9116 Validation Accuracy: 0.599400\n",
      "Epoch 11, CIFAR-10 Batch 5:  Loss:     0.8773 Validation Accuracy: 0.607000\n",
      "Epoch 12, CIFAR-10 Batch 1:  Loss:     0.9167 Validation Accuracy: 0.606200\n",
      "Epoch 12, CIFAR-10 Batch 2:  Loss:     0.9143 Validation Accuracy: 0.601600\n",
      "Epoch 12, CIFAR-10 Batch 3:  Loss:     0.8750 Validation Accuracy: 0.601200\n",
      "Epoch 12, CIFAR-10 Batch 4:  Loss:     0.8892 Validation Accuracy: 0.602200\n",
      "Epoch 12, CIFAR-10 Batch 5:  Loss:     0.8438 Validation Accuracy: 0.612800\n",
      "Epoch 13, CIFAR-10 Batch 1:  Loss:     0.8785 Validation Accuracy: 0.613800\n",
      "Epoch 13, CIFAR-10 Batch 2:  Loss:     0.8705 Validation Accuracy: 0.611200\n",
      "Epoch 13, CIFAR-10 Batch 3:  Loss:     0.8172 Validation Accuracy: 0.616600\n",
      "Epoch 13, CIFAR-10 Batch 4:  Loss:     0.8331 Validation Accuracy: 0.615600\n",
      "Epoch 13, CIFAR-10 Batch 5:  Loss:     0.8005 Validation Accuracy: 0.620600\n",
      "Epoch 14, CIFAR-10 Batch 1:  Loss:     0.8411 Validation Accuracy: 0.621800\n",
      "Epoch 14, CIFAR-10 Batch 2:  Loss:     0.8275 Validation Accuracy: 0.623000\n",
      "Epoch 14, CIFAR-10 Batch 3:  Loss:     0.7823 Validation Accuracy: 0.624400\n",
      "Epoch 14, CIFAR-10 Batch 4:  Loss:     0.8000 Validation Accuracy: 0.620600\n",
      "Epoch 14, CIFAR-10 Batch 5:  Loss:     0.7657 Validation Accuracy: 0.625600\n",
      "Epoch 15, CIFAR-10 Batch 1:  Loss:     0.8072 Validation Accuracy: 0.634000\n",
      "Epoch 15, CIFAR-10 Batch 2:  Loss:     0.7926 Validation Accuracy: 0.632400\n",
      "Epoch 15, CIFAR-10 Batch 3:  Loss:     0.7507 Validation Accuracy: 0.627400\n",
      "Epoch 15, CIFAR-10 Batch 4:  Loss:     0.7760 Validation Accuracy: 0.624600\n",
      "Epoch 15, CIFAR-10 Batch 5:  Loss:     0.7307 Validation Accuracy: 0.630400\n",
      "Epoch 16, CIFAR-10 Batch 1:  Loss:     0.7614 Validation Accuracy: 0.637800\n",
      "Epoch 16, CIFAR-10 Batch 2:  Loss:     0.7591 Validation Accuracy: 0.634400\n",
      "Epoch 16, CIFAR-10 Batch 3:  Loss:     0.7203 Validation Accuracy: 0.639400\n",
      "Epoch 16, CIFAR-10 Batch 4:  Loss:     0.7344 Validation Accuracy: 0.630600\n",
      "Epoch 16, CIFAR-10 Batch 5:  Loss:     0.6995 Validation Accuracy: 0.641400\n",
      "Epoch 17, CIFAR-10 Batch 1:  Loss:     0.7448 Validation Accuracy: 0.639400\n",
      "Epoch 17, CIFAR-10 Batch 2:  Loss:     0.7355 Validation Accuracy: 0.636400\n",
      "Epoch 17, CIFAR-10 Batch 3:  Loss:     0.7058 Validation Accuracy: 0.626000\n",
      "Epoch 17, CIFAR-10 Batch 4:  Loss:     0.7052 Validation Accuracy: 0.636200\n",
      "Epoch 17, CIFAR-10 Batch 5:  Loss:     0.6771 Validation Accuracy: 0.641400\n",
      "Epoch 18, CIFAR-10 Batch 1:  Loss:     0.7155 Validation Accuracy: 0.643200\n",
      "Epoch 18, CIFAR-10 Batch 2:  Loss:     0.7029 Validation Accuracy: 0.640000\n",
      "Epoch 18, CIFAR-10 Batch 3:  Loss:     0.6705 Validation Accuracy: 0.635200\n",
      "Epoch 18, CIFAR-10 Batch 4:  Loss:     0.6737 Validation Accuracy: 0.641200\n",
      "Epoch 18, CIFAR-10 Batch 5:  Loss:     0.6428 Validation Accuracy: 0.645400\n",
      "Epoch 19, CIFAR-10 Batch 1:  Loss:     0.7052 Validation Accuracy: 0.643600\n",
      "Epoch 19, CIFAR-10 Batch 2:  Loss:     0.7009 Validation Accuracy: 0.636600\n",
      "Epoch 19, CIFAR-10 Batch 3:  Loss:     0.6858 Validation Accuracy: 0.623400\n",
      "Epoch 19, CIFAR-10 Batch 4:  Loss:     0.6930 Validation Accuracy: 0.628000\n",
      "Epoch 19, CIFAR-10 Batch 5:  Loss:     0.6635 Validation Accuracy: 0.625600\n",
      "Epoch 20, CIFAR-10 Batch 1:  Loss:     0.6906 Validation Accuracy: 0.643400\n",
      "Epoch 20, CIFAR-10 Batch 2:  Loss:     0.6867 Validation Accuracy: 0.632600\n",
      "Epoch 20, CIFAR-10 Batch 3:  Loss:     0.6666 Validation Accuracy: 0.632600\n",
      "Epoch 20, CIFAR-10 Batch 4:  Loss:     0.6526 Validation Accuracy: 0.633800\n",
      "Epoch 20, CIFAR-10 Batch 5:  Loss:     0.6286 Validation Accuracy: 0.629400\n",
      "Epoch 21, CIFAR-10 Batch 1:  Loss:     0.6814 Validation Accuracy: 0.642800\n",
      "Epoch 21, CIFAR-10 Batch 2:  Loss:     0.6612 Validation Accuracy: 0.627600\n",
      "Epoch 21, CIFAR-10 Batch 3:  Loss:     0.6371 Validation Accuracy: 0.635800\n",
      "Epoch 21, CIFAR-10 Batch 4:  Loss:     0.6286 Validation Accuracy: 0.636400\n",
      "Epoch 21, CIFAR-10 Batch 5:  Loss:     0.5855 Validation Accuracy: 0.646800\n",
      "Epoch 22, CIFAR-10 Batch 1:  Loss:     0.6334 Validation Accuracy: 0.656600\n",
      "Epoch 22, CIFAR-10 Batch 2:  Loss:     0.6153 Validation Accuracy: 0.645800\n",
      "Epoch 22, CIFAR-10 Batch 3:  Loss:     0.5769 Validation Accuracy: 0.651200\n",
      "Epoch 22, CIFAR-10 Batch 4:  Loss:     0.5879 Validation Accuracy: 0.645600\n",
      "Epoch 22, CIFAR-10 Batch 5:  Loss:     0.5575 Validation Accuracy: 0.654600\n",
      "Epoch 23, CIFAR-10 Batch 1:  Loss:     0.6009 Validation Accuracy: 0.662200\n",
      "Epoch 23, CIFAR-10 Batch 2:  Loss:     0.5728 Validation Accuracy: 0.652800\n",
      "Epoch 23, CIFAR-10 Batch 3:  Loss:     0.5599 Validation Accuracy: 0.649800\n",
      "Epoch 23, CIFAR-10 Batch 4:  Loss:     0.5554 Validation Accuracy: 0.651200\n",
      "Epoch 23, CIFAR-10 Batch 5:  Loss:     0.5276 Validation Accuracy: 0.652000\n",
      "Epoch 24, CIFAR-10 Batch 1:  Loss:     0.5819 Validation Accuracy: 0.659800\n",
      "Epoch 24, CIFAR-10 Batch 2:  Loss:     0.5634 Validation Accuracy: 0.647400\n",
      "Epoch 24, CIFAR-10 Batch 3:  Loss:     0.5543 Validation Accuracy: 0.654600\n",
      "Epoch 24, CIFAR-10 Batch 4:  Loss:     0.5568 Validation Accuracy: 0.643400\n",
      "Epoch 24, CIFAR-10 Batch 5:  Loss:     0.5182 Validation Accuracy: 0.648800\n",
      "Epoch 25, CIFAR-10 Batch 1:  Loss:     0.5631 Validation Accuracy: 0.662200\n",
      "Epoch 25, CIFAR-10 Batch 2:  Loss:     0.5554 Validation Accuracy: 0.646200\n",
      "Epoch 25, CIFAR-10 Batch 3:  Loss:     0.5154 Validation Accuracy: 0.661000\n",
      "Epoch 25, CIFAR-10 Batch 4:  Loss:     0.5095 Validation Accuracy: 0.659600\n",
      "Epoch 25, CIFAR-10 Batch 5:  Loss:     0.4857 Validation Accuracy: 0.664400\n",
      "Epoch 26, CIFAR-10 Batch 1:  Loss:     0.5390 Validation Accuracy: 0.663400\n",
      "Epoch 26, CIFAR-10 Batch 2:  Loss:     0.5268 Validation Accuracy: 0.655200\n",
      "Epoch 26, CIFAR-10 Batch 3:  Loss:     0.4934 Validation Accuracy: 0.663000\n",
      "Epoch 26, CIFAR-10 Batch 4:  Loss:     0.4906 Validation Accuracy: 0.666400\n",
      "Epoch 26, CIFAR-10 Batch 5:  Loss:     0.4603 Validation Accuracy: 0.665400\n",
      "Epoch 27, CIFAR-10 Batch 1:  Loss:     0.5208 Validation Accuracy: 0.666800\n",
      "Epoch 27, CIFAR-10 Batch 2:  Loss:     0.4994 Validation Accuracy: 0.662800\n",
      "Epoch 27, CIFAR-10 Batch 3:  Loss:     0.4786 Validation Accuracy: 0.664200\n",
      "Epoch 27, CIFAR-10 Batch 4:  Loss:     0.4770 Validation Accuracy: 0.663800\n",
      "Epoch 27, CIFAR-10 Batch 5:  Loss:     0.4429 Validation Accuracy: 0.667800\n",
      "Epoch 28, CIFAR-10 Batch 1:  Loss:     0.4984 Validation Accuracy: 0.669800\n",
      "Epoch 28, CIFAR-10 Batch 2:  Loss:     0.4804 Validation Accuracy: 0.665000\n",
      "Epoch 28, CIFAR-10 Batch 3:  Loss:     0.4606 Validation Accuracy: 0.666400\n",
      "Epoch 28, CIFAR-10 Batch 4:  Loss:     0.4513 Validation Accuracy: 0.670800\n",
      "Epoch 28, CIFAR-10 Batch 5:  Loss:     0.4297 Validation Accuracy: 0.668400\n",
      "Epoch 29, CIFAR-10 Batch 1:  Loss:     0.4879 Validation Accuracy: 0.663400\n",
      "Epoch 29, CIFAR-10 Batch 2:  Loss:     0.4950 Validation Accuracy: 0.650200\n",
      "Epoch 29, CIFAR-10 Batch 3:  Loss:     0.4522 Validation Accuracy: 0.672200\n",
      "Epoch 29, CIFAR-10 Batch 4:  Loss:     0.4351 Validation Accuracy: 0.669800\n",
      "Epoch 29, CIFAR-10 Batch 5:  Loss:     0.4088 Validation Accuracy: 0.669600\n",
      "Epoch 30, CIFAR-10 Batch 1:  Loss:     0.4650 Validation Accuracy: 0.668600\n",
      "Epoch 30, CIFAR-10 Batch 2:  Loss:     0.4586 Validation Accuracy: 0.660400\n",
      "Epoch 30, CIFAR-10 Batch 3:  Loss:     0.4335 Validation Accuracy: 0.666800\n",
      "Epoch 30, CIFAR-10 Batch 4:  Loss:     0.4298 Validation Accuracy: 0.671600\n",
      "Epoch 30, CIFAR-10 Batch 5:  Loss:     0.3942 Validation Accuracy: 0.677800\n",
      "Epoch 31, CIFAR-10 Batch 1:  Loss:     0.4467 Validation Accuracy: 0.672600\n",
      "Epoch 31, CIFAR-10 Batch 2:  Loss:     0.4725 Validation Accuracy: 0.651800\n",
      "Epoch 31, CIFAR-10 Batch 3:  Loss:     0.4447 Validation Accuracy: 0.659200\n",
      "Epoch 31, CIFAR-10 Batch 4:  Loss:     0.4303 Validation Accuracy: 0.665600\n",
      "Epoch 31, CIFAR-10 Batch 5:  Loss:     0.3769 Validation Accuracy: 0.670400\n",
      "Epoch 32, CIFAR-10 Batch 1:  Loss:     0.4263 Validation Accuracy: 0.672000\n",
      "Epoch 32, CIFAR-10 Batch 2:  Loss:     0.4336 Validation Accuracy: 0.653800\n",
      "Epoch 32, CIFAR-10 Batch 3:  Loss:     0.4134 Validation Accuracy: 0.668200\n",
      "Epoch 32, CIFAR-10 Batch 4:  Loss:     0.4074 Validation Accuracy: 0.669000\n",
      "Epoch 32, CIFAR-10 Batch 5:  Loss:     0.3627 Validation Accuracy: 0.671400\n",
      "Epoch 33, CIFAR-10 Batch 1:  Loss:     0.4082 Validation Accuracy: 0.672000\n",
      "Epoch 33, CIFAR-10 Batch 2:  Loss:     0.4097 Validation Accuracy: 0.657400\n",
      "Epoch 33, CIFAR-10 Batch 3:  Loss:     0.3963 Validation Accuracy: 0.665200\n",
      "Epoch 33, CIFAR-10 Batch 4:  Loss:     0.3881 Validation Accuracy: 0.671600\n",
      "Epoch 33, CIFAR-10 Batch 5:  Loss:     0.3553 Validation Accuracy: 0.676000\n",
      "Epoch 34, CIFAR-10 Batch 1:  Loss:     0.3968 Validation Accuracy: 0.671800\n",
      "Epoch 34, CIFAR-10 Batch 2:  Loss:     0.3944 Validation Accuracy: 0.658800\n",
      "Epoch 34, CIFAR-10 Batch 3:  Loss:     0.3853 Validation Accuracy: 0.671200\n",
      "Epoch 34, CIFAR-10 Batch 4:  Loss:     0.3799 Validation Accuracy: 0.667600\n",
      "Epoch 34, CIFAR-10 Batch 5:  Loss:     0.3372 Validation Accuracy: 0.674400\n",
      "Epoch 35, CIFAR-10 Batch 1:  Loss:     0.3752 Validation Accuracy: 0.677800\n",
      "Epoch 35, CIFAR-10 Batch 2:  Loss:     0.3799 Validation Accuracy: 0.655400\n",
      "Epoch 35, CIFAR-10 Batch 3:  Loss:     0.3586 Validation Accuracy: 0.674800\n",
      "Epoch 35, CIFAR-10 Batch 4:  Loss:     0.3551 Validation Accuracy: 0.672400\n",
      "Epoch 35, CIFAR-10 Batch 5:  Loss:     0.3353 Validation Accuracy: 0.668000\n",
      "Epoch 36, CIFAR-10 Batch 1:  Loss:     0.3686 Validation Accuracy: 0.672800\n",
      "Epoch 36, CIFAR-10 Batch 2:  Loss:     0.3818 Validation Accuracy: 0.657000\n",
      "Epoch 36, CIFAR-10 Batch 3:  Loss:     0.3616 Validation Accuracy: 0.671800\n",
      "Epoch 36, CIFAR-10 Batch 4:  Loss:     0.3511 Validation Accuracy: 0.674000\n",
      "Epoch 36, CIFAR-10 Batch 5:  Loss:     0.3372 Validation Accuracy: 0.668400\n",
      "Epoch 37, CIFAR-10 Batch 1:  Loss:     0.3902 Validation Accuracy: 0.663000\n",
      "Epoch 37, CIFAR-10 Batch 2:  Loss:     0.3922 Validation Accuracy: 0.654800\n",
      "Epoch 37, CIFAR-10 Batch 3:  Loss:     0.3606 Validation Accuracy: 0.673200\n",
      "Epoch 37, CIFAR-10 Batch 4:  Loss:     0.3411 Validation Accuracy: 0.669400\n",
      "Epoch 37, CIFAR-10 Batch 5:  Loss:     0.3175 Validation Accuracy: 0.671400\n",
      "Epoch 38, CIFAR-10 Batch 1:  Loss:     0.3559 Validation Accuracy: 0.677200\n",
      "Epoch 38, CIFAR-10 Batch 2:  Loss:     0.3453 Validation Accuracy: 0.674000\n",
      "Epoch 38, CIFAR-10 Batch 3:  Loss:     0.3262 Validation Accuracy: 0.672400\n",
      "Epoch 38, CIFAR-10 Batch 4:  Loss:     0.3323 Validation Accuracy: 0.664200\n",
      "Epoch 38, CIFAR-10 Batch 5:  Loss:     0.3104 Validation Accuracy: 0.664000\n",
      "Epoch 39, CIFAR-10 Batch 1:  Loss:     0.3265 Validation Accuracy: 0.682200\n",
      "Epoch 39, CIFAR-10 Batch 2:  Loss:     0.3370 Validation Accuracy: 0.668200\n",
      "Epoch 39, CIFAR-10 Batch 3:  Loss:     0.3215 Validation Accuracy: 0.667000\n",
      "Epoch 39, CIFAR-10 Batch 4:  Loss:     0.3414 Validation Accuracy: 0.651600\n",
      "Epoch 39, CIFAR-10 Batch 5:  Loss:     0.3444 Validation Accuracy: 0.648800\n",
      "Epoch 40, CIFAR-10 Batch 1:  Loss:     0.3676 Validation Accuracy: 0.653200\n",
      "Epoch 40, CIFAR-10 Batch 2:  Loss:     0.3783 Validation Accuracy: 0.647000\n",
      "Epoch 40, CIFAR-10 Batch 3:  Loss:     0.3366 Validation Accuracy: 0.658400\n",
      "Epoch 40, CIFAR-10 Batch 4:  Loss:     0.3503 Validation Accuracy: 0.652200\n",
      "Epoch 40, CIFAR-10 Batch 5:  Loss:     0.3054 Validation Accuracy: 0.665200\n",
      "Epoch 41, CIFAR-10 Batch 1:  Loss:     0.3627 Validation Accuracy: 0.658000\n",
      "Epoch 41, CIFAR-10 Batch 2:  Loss:     0.3631 Validation Accuracy: 0.652400\n",
      "Epoch 41, CIFAR-10 Batch 3:  Loss:     0.3402 Validation Accuracy: 0.654400\n",
      "Epoch 41, CIFAR-10 Batch 4:  Loss:     0.3318 Validation Accuracy: 0.662000\n",
      "Epoch 41, CIFAR-10 Batch 5:  Loss:     0.2950 Validation Accuracy: 0.662000\n",
      "Epoch 42, CIFAR-10 Batch 1:  Loss:     0.3451 Validation Accuracy: 0.659400\n",
      "Epoch 42, CIFAR-10 Batch 2:  Loss:     0.3189 Validation Accuracy: 0.665000\n",
      "Epoch 42, CIFAR-10 Batch 3:  Loss:     0.3287 Validation Accuracy: 0.658600\n",
      "Epoch 42, CIFAR-10 Batch 4:  Loss:     0.3163 Validation Accuracy: 0.663400\n",
      "Epoch 42, CIFAR-10 Batch 5:  Loss:     0.2884 Validation Accuracy: 0.660000\n",
      "Epoch 43, CIFAR-10 Batch 1:  Loss:     0.3103 Validation Accuracy: 0.673000\n",
      "Epoch 43, CIFAR-10 Batch 2:  Loss:     0.3228 Validation Accuracy: 0.653600\n",
      "Epoch 43, CIFAR-10 Batch 3:  Loss:     0.3621 Validation Accuracy: 0.645800\n",
      "Epoch 43, CIFAR-10 Batch 4:  Loss:     0.3096 Validation Accuracy: 0.664600\n",
      "Epoch 43, CIFAR-10 Batch 5:  Loss:     0.3045 Validation Accuracy: 0.639600\n",
      "Epoch 44, CIFAR-10 Batch 1:  Loss:     0.3179 Validation Accuracy: 0.672200\n",
      "Epoch 44, CIFAR-10 Batch 2:  Loss:     0.2909 Validation Accuracy: 0.666800\n",
      "Epoch 44, CIFAR-10 Batch 3:  Loss:     0.3186 Validation Accuracy: 0.661600\n",
      "Epoch 44, CIFAR-10 Batch 4:  Loss:     0.3187 Validation Accuracy: 0.659200\n",
      "Epoch 44, CIFAR-10 Batch 5:  Loss:     0.2699 Validation Accuracy: 0.663400\n",
      "Epoch 45, CIFAR-10 Batch 1:  Loss:     0.3093 Validation Accuracy: 0.667200\n",
      "Epoch 45, CIFAR-10 Batch 2:  Loss:     0.2771 Validation Accuracy: 0.669400\n",
      "Epoch 45, CIFAR-10 Batch 3:  Loss:     0.2719 Validation Accuracy: 0.666600\n",
      "Epoch 45, CIFAR-10 Batch 4:  Loss:     0.2909 Validation Accuracy: 0.661200\n",
      "Epoch 45, CIFAR-10 Batch 5:  Loss:     0.2471 Validation Accuracy: 0.663800\n",
      "Epoch 46, CIFAR-10 Batch 1:  Loss:     0.2921 Validation Accuracy: 0.673000\n",
      "Epoch 46, CIFAR-10 Batch 2:  Loss:     0.2753 Validation Accuracy: 0.665000\n",
      "Epoch 46, CIFAR-10 Batch 3:  Loss:     0.2699 Validation Accuracy: 0.665000\n",
      "Epoch 46, CIFAR-10 Batch 4:  Loss:     0.2734 Validation Accuracy: 0.667200\n",
      "Epoch 46, CIFAR-10 Batch 5:  Loss:     0.2398 Validation Accuracy: 0.665600\n",
      "Epoch 47, CIFAR-10 Batch 1:  Loss:     0.2732 Validation Accuracy: 0.671200\n",
      "Epoch 47, CIFAR-10 Batch 2:  Loss:     0.2604 Validation Accuracy: 0.664400\n",
      "Epoch 47, CIFAR-10 Batch 3:  Loss:     0.2568 Validation Accuracy: 0.668200\n",
      "Epoch 47, CIFAR-10 Batch 4:  Loss:     0.2460 Validation Accuracy: 0.671600\n",
      "Epoch 47, CIFAR-10 Batch 5:  Loss:     0.2226 Validation Accuracy: 0.674600\n",
      "Epoch 48, CIFAR-10 Batch 1:  Loss:     0.2523 Validation Accuracy: 0.677000\n",
      "Epoch 48, CIFAR-10 Batch 2:  Loss:     0.2567 Validation Accuracy: 0.665400\n",
      "Epoch 48, CIFAR-10 Batch 3:  Loss:     0.2591 Validation Accuracy: 0.670600\n",
      "Epoch 48, CIFAR-10 Batch 4:  Loss:     0.2416 Validation Accuracy: 0.672800\n",
      "Epoch 48, CIFAR-10 Batch 5:  Loss:     0.2195 Validation Accuracy: 0.675600\n",
      "Epoch 49, CIFAR-10 Batch 1:  Loss:     0.2474 Validation Accuracy: 0.674400\n",
      "Epoch 49, CIFAR-10 Batch 2:  Loss:     0.2547 Validation Accuracy: 0.666600\n",
      "Epoch 49, CIFAR-10 Batch 3:  Loss:     0.2501 Validation Accuracy: 0.667200\n",
      "Epoch 49, CIFAR-10 Batch 4:  Loss:     0.2456 Validation Accuracy: 0.673200\n",
      "Epoch 49, CIFAR-10 Batch 5:  Loss:     0.2124 Validation Accuracy: 0.675800\n",
      "Epoch 50, CIFAR-10 Batch 1:  Loss:     0.2303 Validation Accuracy: 0.681400\n",
      "Epoch 50, CIFAR-10 Batch 2:  Loss:     0.2325 Validation Accuracy: 0.673200\n",
      "Epoch 50, CIFAR-10 Batch 3:  Loss:     0.2305 Validation Accuracy: 0.670600\n",
      "Epoch 50, CIFAR-10 Batch 4:  Loss:     0.2337 Validation Accuracy: 0.665600\n",
      "Epoch 50, CIFAR-10 Batch 5:  Loss:     0.1981 Validation Accuracy: 0.674800\n"
     ]
    }
   ],
   "source": [
    "\"\"\"\n",
    "DON'T MODIFY ANYTHING IN THIS CELL\n",
    "\"\"\"\n",
    "save_model_path = './image_classification'\n",
    "\n",
    "print('Training...')\n",
    "with tf.Session() as sess:\n",
    "    # Initializing the variables\n",
    "    sess.run(tf.global_variables_initializer())\n",
    "    \n",
    "    # Training cycle\n",
    "    for epoch in range(epochs):\n",
    "        # Loop over all batches\n",
    "        n_batches = 5\n",
    "        for batch_i in range(1, n_batches + 1):\n",
    "            for batch_features, batch_labels in helper.load_preprocess_training_batch(batch_i, batch_size):\n",
    "                train_neural_network(sess, optimizer, keep_probability, batch_features, batch_labels)\n",
    "            print('Epoch {:>2}, CIFAR-10 Batch {}:  '.format(epoch + 1, batch_i), end='')\n",
    "            print_stats(sess, batch_features, batch_labels, cost, accuracy)\n",
    "            \n",
    "    # Save Model\n",
    "    saver = tf.train.Saver()\n",
    "    save_path = saver.save(sess, save_model_path)"
   ]
  },
  {
   "cell_type": "markdown",
   "metadata": {
    "deletable": true,
    "editable": true
   },
   "source": [
    "# Checkpoint\n",
    "The model has been saved to disk.\n",
    "## Test Model\n",
    "Test your model against the test dataset.  This will be your final accuracy. You should have an accuracy greater than 50%. If you don't, keep tweaking the model architecture and parameters."
   ]
  },
  {
   "cell_type": "code",
   "execution_count": 15,
   "metadata": {
    "collapsed": false,
    "deletable": true,
    "editable": true
   },
   "outputs": [
    {
     "name": "stdout",
     "output_type": "stream",
     "text": [
      "Testing Accuracy: 0.677787971496582\n",
      "\n"
     ]
    },
    {
     "data": {
      "image/png": "[encoded data removed]",
      "text/plain": [
       "<matplotlib.figure.Figure at 0x7f6904cc85f8>"
      ]
     },
     "metadata": {
      "image/png": {
       "height": 319,
       "width": 355
      }
     },
     "output_type": "display_data"
    }
   ],
   "source": [
    "\"\"\"\n",
    "DON'T MODIFY ANYTHING IN THIS CELL\n",
    "\"\"\"\n",
    "%matplotlib inline\n",
    "%config InlineBackend.figure_format = 'retina'\n",
    "\n",
    "import tensorflow as tf\n",
    "import pickle\n",
    "import helper\n",
    "import random\n",
    "\n",
    "# Set batch size if not already set\n",
    "try:\n",
    "    if batch_size:\n",
    "        pass\n",
    "except NameError:\n",
    "    batch_size = 64\n",
    "\n",
    "save_model_path = './image_classification'\n",
    "n_samples = 4\n",
    "top_n_predictions = 3\n",
    "\n",
    "def test_model():\n",
    "    \"\"\"\n",
    "    Test the saved model against the test dataset\n",
    "    \"\"\"\n",
    "\n",
    "    test_features, test_labels = pickle.load(open('preprocess_training.p', mode='rb'))\n",
    "    loaded_graph = tf.Graph()\n",
    "\n",
    "    with tf.Session(graph=loaded_graph) as sess:\n",
    "        # Load model\n",
    "        loader = tf.train.import_meta_graph(save_model_path + '.meta')\n",
    "        loader.restore(sess, save_model_path)\n",
    "\n",
    "        # Get Tensors from loaded model\n",
    "        loaded_x = loaded_graph.get_tensor_by_name('x:0')\n",
    "        loaded_y = loaded_graph.get_tensor_by_name('y:0')\n",
    "        loaded_keep_prob = loaded_graph.get_tensor_by_name('keep_prob:0')\n",
    "        loaded_logits = loaded_graph.get_tensor_by_name('logits:0')\n",
    "        loaded_acc = loaded_graph.get_tensor_by_name('accuracy:0')\n",
    "        \n",
    "        # Get accuracy in batches for memory limitations\n",
    "        test_batch_acc_total = 0\n",
    "        test_batch_count = 0\n",
    "        \n",
    "        for train_feature_batch, train_label_batch in helper.batch_features_labels(test_features, test_labels, batch_size):\n",
    "            test_batch_acc_total += sess.run(\n",
    "                loaded_acc,\n",
    "                feed_dict={loaded_x: train_feature_batch, loaded_y: train_label_batch, loaded_keep_prob: 1.0})\n",
    "            test_batch_count += 1\n",
    "\n",
    "        print('Testing Accuracy: {}\\n'.format(test_batch_acc_total/test_batch_count))\n",
    "\n",
    "        # Print Random Samples\n",
    "        random_test_features, random_test_labels = tuple(zip(*random.sample(list(zip(test_features, test_labels)), n_samples)))\n",
    "        random_test_predictions = sess.run(\n",
    "            tf.nn.top_k(tf.nn.softmax(loaded_logits), top_n_predictions),\n",
    "            feed_dict={loaded_x: random_test_features, loaded_y: random_test_labels, loaded_keep_prob: 1.0})\n",
    "        helper.display_image_predictions(random_test_features, random_test_labels, random_test_predictions)\n",
    "\n",
    "\n",
    "test_model()"
   ]
  },
  {
   "cell_type": "markdown",
   "metadata": {
    "deletable": true,
    "editable": true
   },
   "source": [
    "## Why 50-70% Accuracy?\n",
    "You might be wondering why you can't get an accuracy any higher. First things first, 50% isn't bad for a simple CNN.  Pure guessing would get you 10% accuracy. However, you might notice people are getting scores [well above 70%](http://rodrigob.github.io/are_we_there_yet/build/classification_datasets_results.html#43494641522d3130).  That's because we haven't taught you all there is to know about neural networks. We still need to cover a few more techniques.\n",
    "## Submitting This Project\n",
    "When submitting this project, make sure to run all the cells before saving the notebook.  Save the notebook file as \"dlnd_image_classification.ipynb\" and save it as a HTML file under \"File\" -> \"Download as\".  Include the \"helper.py\" and \"problem_unittests.py\" files in your submission."
   ]
  }
 ],
 "metadata": {
  "kernelspec": {
   "display_name": "Python 3",
   "language": "python",
   "name": "python3"
  },
  "language_info": {
   "codemirror_mode": {
    "name": "ipython",
    "version": 3
   },
   "file_extension": ".py",
   "mimetype": "text/x-python",
   "name": "python",
   "nbconvert_exporter": "python",
   "pygments_lexer": "ipython3",
   "version": "3.5.2"
  },
  "widgets": {
   "state": {},
   "version": "1.1.2"
  }
 },
 "nbformat": 4,
 "nbformat_minor": 0
}
