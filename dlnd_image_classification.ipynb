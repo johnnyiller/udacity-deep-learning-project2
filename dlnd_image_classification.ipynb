{
 "cells": [
  {
   "cell_type": "markdown",
   "metadata": {
    "collapsed": true,
    "deletable": true,
    "editable": true
   },
   "source": [
    "# Image Classification\n",
    "In this project, you'll classify images from the [CIFAR-10 dataset](https://www.cs.toronto.edu/~kriz/cifar.html).  The dataset consists of airplanes, dogs, cats, and other objects. You'll preprocess the images, then train a convolutional neural network on all the samples. The images need to be normalized and the labels need to be one-hot encoded.  You'll get to apply what you learned and build a convolutional, max pooling, dropout, and fully connected layers.  At the end, you'll get to see your neural network's predictions on the sample images.\n",
    "## Get the Data\n",
    "Run the following cell to download the [CIFAR-10 dataset for python](https://www.cs.toronto.edu/~kriz/cifar-10-python.tar.gz)."
   ]
  },
  {
   "cell_type": "code",
   "execution_count": 29,
   "metadata": {
    "collapsed": false,
    "deletable": true,
    "editable": true
   },
   "outputs": [
    {
     "name": "stdout",
     "output_type": "stream",
     "text": [
      "All files found!\n"
     ]
    }
   ],
   "source": [
    "\"\"\"\n",
    "DON'T MODIFY ANYTHING IN THIS CELL THAT IS BELOW THIS LINE\n",
    "\"\"\"\n",
    "from urllib.request import urlretrieve\n",
    "from os.path import isfile, isdir\n",
    "from tqdm import tqdm\n",
    "import problem_unittests as tests\n",
    "import tarfile\n",
    "\n",
    "cifar10_dataset_folder_path = 'cifar-10-batches-py'\n",
    "\n",
    "class DLProgress(tqdm):\n",
    "    last_block = 0\n",
    "\n",
    "    def hook(self, block_num=1, block_size=1, total_size=None):\n",
    "        self.total = total_size\n",
    "        self.update((block_num - self.last_block) * block_size)\n",
    "        self.last_block = block_num\n",
    "\n",
    "if not isfile('cifar-10-python.tar.gz'):\n",
    "    with DLProgress(unit='B', unit_scale=True, miniters=1, desc='CIFAR-10 Dataset') as pbar:\n",
    "        urlretrieve(\n",
    "            'https://www.cs.toronto.edu/~kriz/cifar-10-python.tar.gz',\n",
    "            'cifar-10-python.tar.gz',\n",
    "            pbar.hook)\n",
    "\n",
    "if not isdir(cifar10_dataset_folder_path):\n",
    "    with tarfile.open('cifar-10-python.tar.gz') as tar:\n",
    "        tar.extractall()\n",
    "        tar.close()\n",
    "\n",
    "\n",
    "tests.test_folder_path(cifar10_dataset_folder_path)"
   ]
  },
  {
   "cell_type": "markdown",
   "metadata": {
    "deletable": true,
    "editable": true
   },
   "source": [
    "## Explore the Data\n",
    "The dataset is broken into batches to prevent your machine from running out of memory.  The CIFAR-10 dataset consists of 5 batches, named `data_batch_1`, `data_batch_2`, etc.. Each batch contains the labels and images that are one of the following:\n",
    "* airplane\n",
    "* automobile\n",
    "* bird\n",
    "* cat\n",
    "* deer\n",
    "* dog\n",
    "* frog\n",
    "* horse\n",
    "* ship\n",
    "* truck\n",
    "\n",
    "Understanding a dataset is part of making predictions on the data.  Play around with the code cell below by changing the `batch_id` and `sample_id`. The `batch_id` is the id for a batch (1-5). The `sample_id` is the id for a image and label pair in the batch.\n",
    "\n",
    "Ask yourself \"What are all possible labels?\", \"What is the range of values for the image data?\", \"Are the labels in order or random?\".  Answers to questions like these will help you preprocess the data and end up with better predictions."
   ]
  },
  {
   "cell_type": "code",
   "execution_count": 30,
   "metadata": {
    "collapsed": false,
    "deletable": true,
    "editable": true
   },
   "outputs": [
    {
     "name": "stdout",
     "output_type": "stream",
     "text": [
      "\n",
      "Stats of batch 4:\n",
      "Samples: 10000\n",
      "Label Counts: {0: 1003, 1: 963, 2: 1041, 3: 976, 4: 1004, 5: 1021, 6: 1004, 7: 981, 8: 1024, 9: 983}\n",
      "First 20 Labels: [0, 6, 0, 2, 7, 2, 1, 2, 4, 1, 5, 6, 6, 3, 1, 3, 5, 5, 8, 1]\n",
      "\n",
      "Example of Image 1000:\n",
      "Image - Min Value: 29 Max Value: 255\n",
      "Image - Shape: (32, 32, 3)\n",
      "Label - Label Id: 0 Name: airplane\n"
     ]
    },
    {
     "data": {
      "image/png": "[encoded data removed]",
      "text/plain": [
       "<matplotlib.figure.Figure at 0x7fbbc876fcc0>"
      ]
     },
     "metadata": {
      "image/png": {
       "height": 250,
       "width": 253
      }
     },
     "output_type": "display_data"
    }
   ],
   "source": [
    "%matplotlib inline\n",
    "%config InlineBackend.figure_format = 'retina'\n",
    "\n",
    "import helper\n",
    "import numpy as np\n",
    "\n",
    "# Explore the dataset\n",
    "batch_id = 4\n",
    "sample_id = 1000\n",
    "helper.display_stats(cifar10_dataset_folder_path, batch_id, sample_id)"
   ]
  },
  {
   "cell_type": "markdown",
   "metadata": {
    "deletable": true,
    "editable": true
   },
   "source": [
    "## Implement Preprocess Functions\n",
    "### Normalize\n",
    "In the cell below, implement the `normalize` function to take in image data, `x`, and return it as a normalized Numpy array. The values should be in the range of 0 to 1, inclusive.  The return object should be the same shape as `x`."
   ]
  },
  {
   "cell_type": "code",
   "execution_count": 31,
   "metadata": {
    "collapsed": false,
    "deletable": true,
    "editable": true
   },
   "outputs": [
    {
     "name": "stdout",
     "output_type": "stream",
     "text": [
      "Tests Passed\n"
     ]
    }
   ],
   "source": [
    "def normalize(x):\n",
    "    \"\"\"\n",
    "    Normalize a list of sample image data in the range of 0 to 1\n",
    "    : x: List of image data.  The image shape is (32, 32, 3)\n",
    "    : return: Numpy array of normalize data\n",
    "    \"\"\"\n",
    "    return np.array(x) / 255\n",
    "\n",
    "\n",
    "\"\"\"\n",
    "DON'T MODIFY ANYTHING IN THIS CELL THAT IS BELOW THIS LINE\n",
    "\"\"\"\n",
    "tests.test_normalize(normalize)"
   ]
  },
  {
   "cell_type": "markdown",
   "metadata": {
    "deletable": true,
    "editable": true
   },
   "source": [
    "### One-hot encode\n",
    "Just like the previous code cell, you'll be implementing a function for preprocessing.  This time, you'll implement the `one_hot_encode` function. The input, `x`, are a list of labels.  Implement the function to return the list of labels as One-Hot encoded Numpy array.  The possible values for labels are 0 to 9. The one-hot encoding function should return the same encoding for each value between each call to `one_hot_encode`.  Make sure to save the map of encodings outside the function.\n",
    "\n",
    "Hint: Don't reinvent the wheel."
   ]
  },
  {
   "cell_type": "code",
   "execution_count": 32,
   "metadata": {
    "collapsed": false,
    "deletable": true,
    "editable": true
   },
   "outputs": [
    {
     "name": "stdout",
     "output_type": "stream",
     "text": [
      "Tests Passed\n"
     ]
    }
   ],
   "source": [
    "def one_hot_encode(x):\n",
    "    \"\"\"\n",
    "    One hot encode a list of sample labels. Return a one-hot encoded vector for each label.\n",
    "    : x: List of sample Labels\n",
    "    : return: Numpy array of one-hot encoded labels\n",
    "    \"\"\"\n",
    "    a = np.array(x)\n",
    "    alen = len(a)\n",
    "    b = np.zeros((alen, 10))\n",
    "    b[np.arange(alen), a] = 1\n",
    "    return b\n",
    "\n",
    "\n",
    "\"\"\"\n",
    "DON'T MODIFY ANYTHING IN THIS CELL THAT IS BELOW THIS LINE\n",
    "\"\"\"\n",
    "tests.test_one_hot_encode(one_hot_encode)"
   ]
  },
  {
   "cell_type": "markdown",
   "metadata": {
    "deletable": true,
    "editable": true
   },
   "source": [
    "### Randomize Data\n",
    "As you saw from exploring the data above, the order of the samples are randomized.  It doesn't hurt to randomize it again, but you don't need to for this dataset."
   ]
  },
  {
   "cell_type": "markdown",
   "metadata": {
    "deletable": true,
    "editable": true
   },
   "source": [
    "## Preprocess all the data and save it\n",
    "Running the code cell below will preprocess all the CIFAR-10 data and save it to file. The code below also uses 10% of the training data for validation."
   ]
  },
  {
   "cell_type": "code",
   "execution_count": 33,
   "metadata": {
    "collapsed": false,
    "deletable": true,
    "editable": true
   },
   "outputs": [],
   "source": [
    "\"\"\"\n",
    "DON'T MODIFY ANYTHING IN THIS CELL\n",
    "\"\"\"\n",
    "# Preprocess Training, Validation, and Testing Data\n",
    "helper.preprocess_and_save_data(cifar10_dataset_folder_path, normalize, one_hot_encode)"
   ]
  },
  {
   "cell_type": "markdown",
   "metadata": {
    "deletable": true,
    "editable": true
   },
   "source": [
    "# Check Point\n",
    "This is your first checkpoint.  If you ever decide to come back to this notebook or have to restart the notebook, you can start from here.  The preprocessed data has been saved to disk."
   ]
  },
  {
   "cell_type": "code",
   "execution_count": 34,
   "metadata": {
    "collapsed": true,
    "deletable": true,
    "editable": true
   },
   "outputs": [],
   "source": [
    "\"\"\"\n",
    "DON'T MODIFY ANYTHING IN THIS CELL\n",
    "\"\"\"\n",
    "import pickle\n",
    "import problem_unittests as tests\n",
    "import helper\n",
    "\n",
    "# Load the Preprocessed Validation data\n",
    "valid_features, valid_labels = pickle.load(open('preprocess_validation.p', mode='rb'))"
   ]
  },
  {
   "cell_type": "markdown",
   "metadata": {
    "deletable": true,
    "editable": true
   },
   "source": [
    "## Build the network\n",
    "For the neural network, you'll build each layer into a function.  Most of the code you've seen has been outside of functions. To test your code more thoroughly, we require that you put each layer in a function.  This allows us to give you better feedback and test for simple mistakes using our unittests before you submit your project.\n",
    "\n",
    ">**Note:** If you're finding it hard to dedicate enough time for this course each week, we've provided a small shortcut to this part of the project. In the next couple of problems, you'll have the option to use classes from the [TensorFlow Layers](https://www.tensorflow.org/api_docs/python/tf/layers) or [TensorFlow Layers (contrib)](https://www.tensorflow.org/api_guides/python/contrib.layers) packages to build each layer, except the layers you build in the \"Convolutional and Max Pooling Layer\" section.  TF Layers is similar to Keras's and TFLearn's abstraction to layers, so it's easy to pickup.\n",
    "\n",
    ">However, if you would like to get the most out of this course, try to solve all the problems _without_ using anything from the TF Layers packages. You **can** still use classes from other packages that happen to have the same name as ones you find in TF Layers! For example, instead of using the TF Layers version of the `conv2d` class, [tf.layers.conv2d](https://www.tensorflow.org/api_docs/python/tf/layers/conv2d), you would want to use the TF Neural Network version of `conv2d`, [tf.nn.conv2d](https://www.tensorflow.org/api_docs/python/tf/nn/conv2d). \n",
    "\n",
    "Let's begin!\n",
    "\n",
    "### Input\n",
    "The neural network needs to read the image data, one-hot encoded labels, and dropout keep probability. Implement the following functions\n",
    "* Implement `neural_net_image_input`\n",
    " * Return a [TF Placeholder](https://www.tensorflow.org/api_docs/python/tf/placeholder)\n",
    " * Set the shape using `image_shape` with batch size set to `None`.\n",
    " * Name the TensorFlow placeholder \"x\" using the TensorFlow `name` parameter in the [TF Placeholder](https://www.tensorflow.org/api_docs/python/tf/placeholder).\n",
    "* Implement `neural_net_label_input`\n",
    " * Return a [TF Placeholder](https://www.tensorflow.org/api_docs/python/tf/placeholder)\n",
    " * Set the shape using `n_classes` with batch size set to `None`.\n",
    " * Name the TensorFlow placeholder \"y\" using the TensorFlow `name` parameter in the [TF Placeholder](https://www.tensorflow.org/api_docs/python/tf/placeholder).\n",
    "* Implement `neural_net_keep_prob_input`\n",
    " * Return a [TF Placeholder](https://www.tensorflow.org/api_docs/python/tf/placeholder) for dropout keep probability.\n",
    " * Name the TensorFlow placeholder \"keep_prob\" using the TensorFlow `name` parameter in the [TF Placeholder](https://www.tensorflow.org/api_docs/python/tf/placeholder).\n",
    "\n",
    "These names will be used at the end of the project to load your saved model.\n",
    "\n",
    "Note: `None` for shapes in TensorFlow allow for a dynamic size."
   ]
  },
  {
   "cell_type": "code",
   "execution_count": 35,
   "metadata": {
    "collapsed": false,
    "deletable": true,
    "editable": true
   },
   "outputs": [
    {
     "name": "stdout",
     "output_type": "stream",
     "text": [
      "Image Input Tests Passed.\n",
      "Label Input Tests Passed.\n",
      "Keep Prob Tests Passed.\n"
     ]
    }
   ],
   "source": [
    "import tensorflow as tf\n",
    "\n",
    "def neural_net_image_input(image_shape):\n",
    "    \"\"\"\n",
    "    Return a Tensor for a bach of image input\n",
    "    : image_shape: Shape of the images\n",
    "    : return: Tensor for image input.\n",
    "    \"\"\"\n",
    "    #print(image_shape)\n",
    "    # TODO: Implement Function\n",
    "    return tf.placeholder(tf.float32, name=\"x\", shape=[None, image_shape[0], image_shape[1], image_shape[2]])\n",
    "\n",
    "\n",
    "def neural_net_label_input(n_classes):\n",
    "    \"\"\"\n",
    "    Return a Tensor for a batch of label input\n",
    "    : n_classes: Number of classes\n",
    "    : return: Tensor for label input.\n",
    "    \"\"\"\n",
    "    # TODO: Implement Function\n",
    "    return tf.placeholder(tf.float32, name=\"y\", shape=[None, n_classes])\n",
    "\n",
    "\n",
    "def neural_net_keep_prob_input():\n",
    "    \"\"\"\n",
    "    Return a Tensor for keep probability\n",
    "    : return: Tensor for keep probability.\n",
    "    \"\"\"\n",
    "    # TODO: Implement Function\n",
    "    return tf.placeholder(tf.float32, name=\"keep_prob\")\n",
    "\n",
    "\n",
    "\"\"\"\n",
    "DON'T MODIFY ANYTHING IN THIS CELL THAT IS BELOW THIS LINE\n",
    "\"\"\"\n",
    "tf.reset_default_graph()\n",
    "tests.test_nn_image_inputs(neural_net_image_input)\n",
    "tests.test_nn_label_inputs(neural_net_label_input)\n",
    "tests.test_nn_keep_prob_inputs(neural_net_keep_prob_input)"
   ]
  },
  {
   "cell_type": "markdown",
   "metadata": {
    "deletable": true,
    "editable": true
   },
   "source": [
    "### Convolution and Max Pooling Layer\n",
    "Convolution layers have a lot of success with images. For this code cell, you should implement the function `conv2d_maxpool` to apply convolution then max pooling:\n",
    "* Create the weight and bias using `conv_ksize`, `conv_num_outputs` and the shape of `x_tensor`.\n",
    "* Apply a convolution to `x_tensor` using weight and `conv_strides`.\n",
    " * We recommend you use same padding, but you're welcome to use any padding.\n",
    "* Add bias\n",
    "* Add a nonlinear activation to the convolution.\n",
    "* Apply Max Pooling using `pool_ksize` and `pool_strides`.\n",
    " * We recommend you use same padding, but you're welcome to use any padding.\n",
    "\n",
    "**Note:** You **can't** use [TensorFlow Layers](https://www.tensorflow.org/api_docs/python/tf/layers) or [TensorFlow Layers (contrib)](https://www.tensorflow.org/api_guides/python/contrib.layers) for **this** layer, but you can still use TensorFlow's [Neural Network](https://www.tensorflow.org/api_docs/python/tf/nn) package. You may still use the shortcut option for all the **other** layers."
   ]
  },
  {
   "cell_type": "code",
   "execution_count": 36,
   "metadata": {
    "collapsed": false,
    "deletable": true,
    "editable": true
   },
   "outputs": [
    {
     "name": "stdout",
     "output_type": "stream",
     "text": [
      "Tests Passed\n"
     ]
    }
   ],
   "source": [
    "def conv2d_maxpool(x_tensor, conv_num_outputs, conv_ksize, conv_strides, pool_ksize, pool_strides):\n",
    "    \"\"\"\n",
    "    Apply convolution then max pooling to x_tensor\n",
    "    :param x_tensor: TensorFlow Tensor\n",
    "    :param conv_num_outputs: Number of outputs for the convolutional layer\n",
    "    :param conv_ksize: kernal size 2-D Tuple for the convolutional layer\n",
    "    :param conv_strides: Stride 2-D Tuple for convolution\n",
    "    :param pool_ksize: kernal size 2-D Tuple for pool\n",
    "    :param pool_strides: Stride 2-D Tuple for pool\n",
    "    : return: A tensor that represents convolution and max pooling of x_tensor\n",
    "    \"\"\"\n",
    "    input_channels = x_tensor.get_shape()\n",
    "    W = tf.Variable(tf.random_normal([conv_ksize[0], conv_ksize[1],int(input_channels[-1]),conv_num_outputs], mean=0.0, stddev=0.1))\n",
    "    b = tf.Variable(tf.zeros([conv_num_outputs]))\n",
    "    x_tensor = tf.nn.conv2d(x_tensor, W, strides=[1,conv_strides[0],conv_strides[1],1], padding='SAME')\n",
    "    x_tensor = tf.nn.bias_add(x_tensor, b)\n",
    "    x_tensor = tf.nn.relu(x_tensor)\n",
    "    x_tensor = tf.nn.max_pool(x_tensor, ksize=[1, pool_ksize[0], pool_ksize[1], 1], strides=[1, pool_strides[0], pool_strides[1], 1], padding='SAME')\n",
    "    #covnet = tf.nn.conv2d(x_tensor, )\n",
    "    # TODO: Implement Function\n",
    "    return x_tensor \n",
    "\n",
    "\n",
    "\"\"\"\n",
    "DON'T MODIFY ANYTHING IN THIS CELL THAT IS BELOW THIS LINE\n",
    "\"\"\"\n",
    "tests.test_con_pool(conv2d_maxpool)"
   ]
  },
  {
   "cell_type": "markdown",
   "metadata": {
    "deletable": true,
    "editable": true
   },
   "source": [
    "### Flatten Layer\n",
    "Implement the `flatten` function to change the dimension of `x_tensor` from a 4-D tensor to a 2-D tensor.  The output should be the shape (*Batch Size*, *Flattened Image Size*). Shortcut option: you can use classes from the [TensorFlow Layers](https://www.tensorflow.org/api_docs/python/tf/layers) or [TensorFlow Layers (contrib)](https://www.tensorflow.org/api_guides/python/contrib.layers) packages for this layer. For more of a challenge, only use other TensorFlow packages."
   ]
  },
  {
   "cell_type": "code",
   "execution_count": 37,
   "metadata": {
    "collapsed": false,
    "deletable": true,
    "editable": true
   },
   "outputs": [
    {
     "name": "stdout",
     "output_type": "stream",
     "text": [
      "Tests Passed\n"
     ]
    }
   ],
   "source": [
    "def flatten(x_tensor):\n",
    "    \"\"\"\n",
    "    Flatten x_tensor to (Batch Size, Flattened Image Size)\n",
    "    : x_tensor: A tensor of size (Batch Size, ...), where ... are the image dimensions.\n",
    "    : return: A tensor of size (Batch Size, Flattened Image Size).\n",
    "    \"\"\"\n",
    "    # TODO: Implement Function\n",
    "    return tf.contrib.layers.flatten(x_tensor)\n",
    "\n",
    "\n",
    "\"\"\"\n",
    "DON'T MODIFY ANYTHING IN THIS CELL THAT IS BELOW THIS LINE\n",
    "\"\"\"\n",
    "tests.test_flatten(flatten)"
   ]
  },
  {
   "cell_type": "markdown",
   "metadata": {
    "deletable": true,
    "editable": true
   },
   "source": [
    "### Fully-Connected Layer\n",
    "Implement the `fully_conn` function to apply a fully connected layer to `x_tensor` with the shape (*Batch Size*, *num_outputs*). Shortcut option: you can use classes from the [TensorFlow Layers](https://www.tensorflow.org/api_docs/python/tf/layers) or [TensorFlow Layers (contrib)](https://www.tensorflow.org/api_guides/python/contrib.layers) packages for this layer. For more of a challenge, only use other TensorFlow packages."
   ]
  },
  {
   "cell_type": "code",
   "execution_count": 38,
   "metadata": {
    "collapsed": false,
    "deletable": true,
    "editable": true
   },
   "outputs": [
    {
     "name": "stdout",
     "output_type": "stream",
     "text": [
      "Tests Passed\n"
     ]
    }
   ],
   "source": [
    "def fully_conn(x_tensor, num_outputs):\n",
    "    \"\"\"\n",
    "    Apply a fully connected layer to x_tensor using weight and bias\n",
    "    : x_tensor: A 2-D tensor where the first dimension is batch size.\n",
    "    : num_outputs: The number of output that the new tensor should be.\n",
    "    : return: A 2-D tensor where the second dimension is num_outputs.\n",
    "    \"\"\"\n",
    "    # TODO: Implement Function\n",
    "    return tf.contrib.layers.fully_connected(x_tensor, num_outputs=num_outputs)\n",
    "\n",
    "\n",
    "\"\"\"\n",
    "DON'T MODIFY ANYTHING IN THIS CELL THAT IS BELOW THIS LINE\n",
    "\"\"\"\n",
    "tests.test_fully_conn(fully_conn)"
   ]
  },
  {
   "cell_type": "markdown",
   "metadata": {
    "deletable": true,
    "editable": true
   },
   "source": [
    "### Output Layer\n",
    "Implement the `output` function to apply a fully connected layer to `x_tensor` with the shape (*Batch Size*, *num_outputs*). Shortcut option: you can use classes from the [TensorFlow Layers](https://www.tensorflow.org/api_docs/python/tf/layers) or [TensorFlow Layers (contrib)](https://www.tensorflow.org/api_guides/python/contrib.layers) packages for this layer. For more of a challenge, only use other TensorFlow packages.\n",
    "\n",
    "**Note:** Activation, softmax, or cross entropy should **not** be applied to this."
   ]
  },
  {
   "cell_type": "code",
   "execution_count": 39,
   "metadata": {
    "collapsed": false,
    "deletable": true,
    "editable": true
   },
   "outputs": [
    {
     "name": "stdout",
     "output_type": "stream",
     "text": [
      "Tests Passed\n"
     ]
    }
   ],
   "source": [
    "def output(x_tensor, num_outputs):\n",
    "    \"\"\"\n",
    "    Apply a output layer to x_tensor using weight and bias\n",
    "    : x_tensor: A 2-D tensor where the first dimension is batch size.\n",
    "    : num_outputs: The number of output that the new tensor should be.\n",
    "    : return: A 2-D tensor where the second dimension is num_outputs.\n",
    "    \"\"\"\n",
    "    # TODO: Implement Function\n",
    "    return tf.contrib.layers.fully_connected(x_tensor, num_outputs=num_outputs)\n",
    "\n",
    "\n",
    "\"\"\"\n",
    "DON'T MODIFY ANYTHING IN THIS CELL THAT IS BELOW THIS LINE\n",
    "\"\"\"\n",
    "tests.test_output(output)"
   ]
  },
  {
   "cell_type": "markdown",
   "metadata": {
    "deletable": true,
    "editable": true
   },
   "source": [
    "### Create Convolutional Model\n",
    "Implement the function `conv_net` to create a convolutional neural network model. The function takes in a batch of images, `x`, and outputs logits.  Use the layers you created above to create this model:\n",
    "\n",
    "* Apply 1, 2, or 3 Convolution and Max Pool layers\n",
    "* Apply a Flatten Layer\n",
    "* Apply 1, 2, or 3 Fully Connected Layers\n",
    "* Apply an Output Layer\n",
    "* Return the output\n",
    "* Apply [TensorFlow's Dropout](https://www.tensorflow.org/api_docs/python/tf/nn/dropout) to one or more layers in the model using `keep_prob`. "
   ]
  },
  {
   "cell_type": "code",
   "execution_count": 40,
   "metadata": {
    "collapsed": false,
    "deletable": true,
    "editable": true
   },
   "outputs": [
    {
     "name": "stdout",
     "output_type": "stream",
     "text": [
      "Neural Network Built!\n"
     ]
    }
   ],
   "source": [
    "def conv_net(x, keep_prob):\n",
    "    \"\"\"\n",
    "    Create a convolutional neural network model\n",
    "    : x: Placeholder tensor that holds image data.\n",
    "    : keep_prob: Placeholder tensor that hold dropout keep probability.\n",
    "    : return: Tensor that represents logits\n",
    "    \"\"\"\n",
    "    # TODO: Apply 1, 2, or 3 Convolution and Max Pool layers\n",
    "    #    Play around with different number of outputs, kernel size and stride\n",
    "    # Function Definition from Above:\n",
    "    #    conv2d_maxpool(x_tensor, conv_num_outputs, conv_ksize, conv_strides, pool_ksize, pool_strides)\n",
    "    x = conv2d_maxpool(x, 64, (4,4), (2,2), (2,2), (2,2))\n",
    "    x = conv2d_maxpool(x, 128, (4,4), (2,2), (2,2), (2,2))\n",
    "    x = flatten(x)\n",
    "    x = fully_conn(x, 512)\n",
    "    x = tf.nn.relu(x)\n",
    "    x = tf.nn.dropout(x, keep_prob)\n",
    "    x = output(x, 10)\n",
    "    \n",
    "\n",
    "    # TODO: Apply a Flatten Layer\n",
    "    # Function Definition from Above:\n",
    "    #   flatten(x_tensor)\n",
    "    \n",
    "\n",
    "    # TODO: Apply 1, 2, or 3 Fully Connected Layers\n",
    "    #    Play around with different number of outputs\n",
    "    # Function Definition from Above:\n",
    "    #   fully_conn(x_tensor, num_outputs)\n",
    "    \n",
    "    \n",
    "    # TODO: Apply an Output Layer\n",
    "    #    Set this to the number of classes\n",
    "    # Function Definition from Above:\n",
    "    #   output(x_tensor, num_outputs)\n",
    "    \n",
    "    \n",
    "    # TODO: return output\n",
    "    return x\n",
    "\n",
    "\n",
    "\"\"\"\n",
    "DON'T MODIFY ANYTHING IN THIS CELL THAT IS BELOW THIS LINE\n",
    "\"\"\"\n",
    "\n",
    "##############################\n",
    "## Build the Neural Network ##\n",
    "##############################\n",
    "\n",
    "# Remove previous weights, bias, inputs, etc..\n",
    "tf.reset_default_graph()\n",
    "\n",
    "# Inputs\n",
    "x = neural_net_image_input((32, 32, 3))\n",
    "y = neural_net_label_input(10)\n",
    "keep_prob = neural_net_keep_prob_input()\n",
    "\n",
    "# Model\n",
    "logits = conv_net(x, keep_prob)\n",
    "\n",
    "# Name logits Tensor, so that is can be loaded from disk after training\n",
    "logits = tf.identity(logits, name='logits')\n",
    "\n",
    "# Loss and Optimizer\n",
    "cost = tf.reduce_mean(tf.nn.softmax_cross_entropy_with_logits(logits=logits, labels=y))\n",
    "optimizer = tf.train.AdamOptimizer().minimize(cost)\n",
    "\n",
    "# Accuracy\n",
    "correct_pred = tf.equal(tf.argmax(logits, 1), tf.argmax(y, 1))\n",
    "accuracy = tf.reduce_mean(tf.cast(correct_pred, tf.float32), name='accuracy')\n",
    "\n",
    "tests.test_conv_net(conv_net)"
   ]
  },
  {
   "cell_type": "markdown",
   "metadata": {
    "deletable": true,
    "editable": true
   },
   "source": [
    "## Train the Neural Network\n",
    "### Single Optimization\n",
    "Implement the function `train_neural_network` to do a single optimization.  The optimization should use `optimizer` to optimize in `session` with a `feed_dict` of the following:\n",
    "* `x` for image input\n",
    "* `y` for labels\n",
    "* `keep_prob` for keep probability for dropout\n",
    "\n",
    "This function will be called for each batch, so `tf.global_variables_initializer()` has already been called.\n",
    "\n",
    "Note: Nothing needs to be returned. This function is only optimizing the neural network."
   ]
  },
  {
   "cell_type": "code",
   "execution_count": 41,
   "metadata": {
    "collapsed": false,
    "deletable": true,
    "editable": true
   },
   "outputs": [
    {
     "name": "stdout",
     "output_type": "stream",
     "text": [
      "Tests Passed\n"
     ]
    }
   ],
   "source": [
    "def train_neural_network(session, optimizer, keep_probability, feature_batch, label_batch):\n",
    "    \"\"\"\n",
    "    Optimize the session on a batch of images and labels\n",
    "    : session: Current TensorFlow session\n",
    "    : optimizer: TensorFlow optimizer function\n",
    "    : keep_probability: keep probability\n",
    "    : feature_batch: Batch of Numpy image data\n",
    "    : label_batch: Batch of Numpy label data\n",
    "    \"\"\"\n",
    "    session.run(optimizer, feed_dict={x: feature_batch, y: label_batch, keep_prob: keep_probability})\n",
    "\n",
    "\n",
    "\"\"\"\n",
    "DON'T MODIFY ANYTHING IN THIS CELL THAT IS BELOW THIS LINE\n",
    "\"\"\"\n",
    "tests.test_train_nn(train_neural_network)"
   ]
  },
  {
   "cell_type": "markdown",
   "metadata": {
    "deletable": true,
    "editable": true
   },
   "source": [
    "### Show Stats\n",
    "Implement the function `print_stats` to print loss and validation accuracy.  Use the global variables `valid_features` and `valid_labels` to calculate validation accuracy.  Use a keep probability of `1.0` to calculate the loss and validation accuracy."
   ]
  },
  {
   "cell_type": "code",
   "execution_count": 42,
   "metadata": {
    "collapsed": false,
    "deletable": true,
    "editable": true
   },
   "outputs": [],
   "source": [
    "def print_stats(session, feature_batch, label_batch, cost, accuracy):\n",
    "    \"\"\"\n",
    "    Print information about loss and validation accuracy\n",
    "    : session: Current TensorFlow session\n",
    "    : feature_batch: Batch of Numpy image data\n",
    "    : label_batch: Batch of Numpy label data\n",
    "    : cost: TensorFlow cost function\n",
    "    : accuracy: TensorFlow accuracy function\n",
    "    \"\"\"\n",
    "    loss = sess.run(cost, feed_dict={x: feature_batch, y: label_batch, keep_prob: 1.})\n",
    "    valid = sess.run(accuracy, feed_dict={x: valid_features, y: valid_labels, keep_prob: 1.})\n",
    "    print('Loss: {:>10.4f} Validation Accuracy: {:.6f}'.format(loss, valid))\n",
    "    # TODO: Implement Function\n",
    "    "
   ]
  },
  {
   "cell_type": "markdown",
   "metadata": {
    "deletable": true,
    "editable": true
   },
   "source": [
    "### Hyperparameters\n",
    "Tune the following parameters:\n",
    "* Set `epochs` to the number of iterations until the network stops learning or start overfitting\n",
    "* Set `batch_size` to the highest number that your machine has memory for.  Most people set them to common sizes of memory:\n",
    " * 64\n",
    " * 128\n",
    " * 256\n",
    " * ...\n",
    "* Set `keep_probability` to the probability of keeping a node using dropout"
   ]
  },
  {
   "cell_type": "code",
   "execution_count": 43,
   "metadata": {
    "collapsed": true,
    "deletable": true,
    "editable": true
   },
   "outputs": [],
   "source": [
    "# TODO: Tune Parameters\n",
    "epochs = 50\n",
    "batch_size = 2048\n",
    "keep_probability = 0.65"
   ]
  },
  {
   "cell_type": "markdown",
   "metadata": {
    "deletable": true,
    "editable": true
   },
   "source": [
    "### Train on a Single CIFAR-10 Batch\n",
    "Instead of training the neural network on all the CIFAR-10 batches of data, let's use a single batch. This should save time while you iterate on the model to get a better accuracy.  Once the final validation accuracy is 50% or greater, run the model on all the data in the next section."
   ]
  },
  {
   "cell_type": "code",
   "execution_count": 26,
   "metadata": {
    "collapsed": false,
    "deletable": true,
    "editable": true
   },
   "outputs": [
    {
     "name": "stdout",
     "output_type": "stream",
     "text": [
      "Checking the Training on a Single Batch...\n",
      "Epoch  1, CIFAR-10 Batch 1:  Loss:     2.2979 Validation Accuracy: 0.097800\n",
      "Epoch  2, CIFAR-10 Batch 1:  Loss:     2.2659 Validation Accuracy: 0.098600\n",
      "Epoch  3, CIFAR-10 Batch 1:  Loss:     2.2558 Validation Accuracy: 0.097800\n",
      "Epoch  4, CIFAR-10 Batch 1:  Loss:     2.2416 Validation Accuracy: 0.114800\n",
      "Epoch  5, CIFAR-10 Batch 1:  Loss:     2.1905 Validation Accuracy: 0.217200\n",
      "Epoch  6, CIFAR-10 Batch 1:  Loss:     2.1566 Validation Accuracy: 0.243800\n",
      "Epoch  7, CIFAR-10 Batch 1:  Loss:     2.1259 Validation Accuracy: 0.255800\n",
      "Epoch  8, CIFAR-10 Batch 1:  Loss:     2.0917 Validation Accuracy: 0.261400\n",
      "Epoch  9, CIFAR-10 Batch 1:  Loss:     2.0439 Validation Accuracy: 0.293400\n",
      "Epoch 10, CIFAR-10 Batch 1:  Loss:     2.0137 Validation Accuracy: 0.306600\n",
      "Epoch 11, CIFAR-10 Batch 1:  Loss:     1.9409 Validation Accuracy: 0.324200\n",
      "Epoch 12, CIFAR-10 Batch 1:  Loss:     1.8800 Validation Accuracy: 0.350000\n",
      "Epoch 13, CIFAR-10 Batch 1:  Loss:     1.8089 Validation Accuracy: 0.361200\n",
      "Epoch 14, CIFAR-10 Batch 1:  Loss:     1.7319 Validation Accuracy: 0.376000\n",
      "Epoch 15, CIFAR-10 Batch 1:  Loss:     1.6591 Validation Accuracy: 0.397600\n",
      "Epoch 16, CIFAR-10 Batch 1:  Loss:     1.5921 Validation Accuracy: 0.413800\n",
      "Epoch 17, CIFAR-10 Batch 1:  Loss:     1.5322 Validation Accuracy: 0.431600\n",
      "Epoch 18, CIFAR-10 Batch 1:  Loss:     1.4772 Validation Accuracy: 0.442200\n",
      "Epoch 19, CIFAR-10 Batch 1:  Loss:     1.4375 Validation Accuracy: 0.450800\n",
      "Epoch 20, CIFAR-10 Batch 1:  Loss:     1.3872 Validation Accuracy: 0.458600\n",
      "Epoch 21, CIFAR-10 Batch 1:  Loss:     1.3495 Validation Accuracy: 0.465000\n",
      "Epoch 22, CIFAR-10 Batch 1:  Loss:     1.3134 Validation Accuracy: 0.466800\n",
      "Epoch 23, CIFAR-10 Batch 1:  Loss:     1.2615 Validation Accuracy: 0.476200\n",
      "Epoch 24, CIFAR-10 Batch 1:  Loss:     1.2160 Validation Accuracy: 0.476600\n",
      "Epoch 25, CIFAR-10 Batch 1:  Loss:     1.1862 Validation Accuracy: 0.484200\n",
      "Epoch 26, CIFAR-10 Batch 1:  Loss:     1.1299 Validation Accuracy: 0.493600\n",
      "Epoch 27, CIFAR-10 Batch 1:  Loss:     1.0073 Validation Accuracy: 0.513200\n",
      "Epoch 28, CIFAR-10 Batch 1:  Loss:     0.9522 Validation Accuracy: 0.523200\n",
      "Epoch 29, CIFAR-10 Batch 1:  Loss:     0.9123 Validation Accuracy: 0.528000\n",
      "Epoch 30, CIFAR-10 Batch 1:  Loss:     0.8580 Validation Accuracy: 0.535000\n",
      "Epoch 31, CIFAR-10 Batch 1:  Loss:     0.8213 Validation Accuracy: 0.536000\n",
      "Epoch 32, CIFAR-10 Batch 1:  Loss:     0.7921 Validation Accuracy: 0.540600\n",
      "Epoch 33, CIFAR-10 Batch 1:  Loss:     0.7600 Validation Accuracy: 0.542000\n",
      "Epoch 34, CIFAR-10 Batch 1:  Loss:     0.7408 Validation Accuracy: 0.542200\n",
      "Epoch 35, CIFAR-10 Batch 1:  Loss:     0.7148 Validation Accuracy: 0.543600\n",
      "Epoch 36, CIFAR-10 Batch 1:  Loss:     0.6664 Validation Accuracy: 0.549600\n",
      "Epoch 37, CIFAR-10 Batch 1:  Loss:     0.6467 Validation Accuracy: 0.548800\n",
      "Epoch 38, CIFAR-10 Batch 1:  Loss:     0.6425 Validation Accuracy: 0.540800\n",
      "Epoch 39, CIFAR-10 Batch 1:  Loss:     0.6023 Validation Accuracy: 0.549600\n",
      "Epoch 40, CIFAR-10 Batch 1:  Loss:     0.5647 Validation Accuracy: 0.556800\n",
      "Epoch 41, CIFAR-10 Batch 1:  Loss:     0.5393 Validation Accuracy: 0.556600\n",
      "Epoch 42, CIFAR-10 Batch 1:  Loss:     0.5201 Validation Accuracy: 0.559600\n",
      "Epoch 43, CIFAR-10 Batch 1:  Loss:     0.4930 Validation Accuracy: 0.557800\n",
      "Epoch 44, CIFAR-10 Batch 1:  Loss:     0.4799 Validation Accuracy: 0.558800\n",
      "Epoch 45, CIFAR-10 Batch 1:  Loss:     0.4604 Validation Accuracy: 0.557800\n",
      "Epoch 46, CIFAR-10 Batch 1:  Loss:     0.4565 Validation Accuracy: 0.558600\n",
      "Epoch 47, CIFAR-10 Batch 1:  Loss:     0.4291 Validation Accuracy: 0.562800\n",
      "Epoch 48, CIFAR-10 Batch 1:  Loss:     0.4080 Validation Accuracy: 0.567200\n",
      "Epoch 49, CIFAR-10 Batch 1:  Loss:     0.3961 Validation Accuracy: 0.562400\n",
      "Epoch 50, CIFAR-10 Batch 1:  Loss:     0.3799 Validation Accuracy: 0.566200\n"
     ]
    }
   ],
   "source": [
    "\"\"\"\n",
    "DON'T MODIFY ANYTHING IN THIS CELL\n",
    "\"\"\"\n",
    "print('Checking the Training on a Single Batch...')\n",
    "with tf.Session() as sess:\n",
    "    # Initializing the variables\n",
    "    sess.run(tf.global_variables_initializer())\n",
    "    \n",
    "    # Training cycle\n",
    "    for epoch in range(epochs):\n",
    "        batch_i = 1\n",
    "        for batch_features, batch_labels in helper.load_preprocess_training_batch(batch_i, batch_size):\n",
    "            train_neural_network(sess, optimizer, keep_probability, batch_features, batch_labels)\n",
    "        print('Epoch {:>2}, CIFAR-10 Batch {}:  '.format(epoch + 1, batch_i), end='')\n",
    "        print_stats(sess, batch_features, batch_labels, cost, accuracy)"
   ]
  },
  {
   "cell_type": "markdown",
   "metadata": {
    "deletable": true,
    "editable": true
   },
   "source": [
    "### Fully Train the Model\n",
    "Now that you got a good accuracy with a single CIFAR-10 batch, try it with all five batches."
   ]
  },
  {
   "cell_type": "code",
   "execution_count": 27,
   "metadata": {
    "collapsed": false,
    "deletable": true,
    "editable": true
   },
   "outputs": [
    {
     "name": "stdout",
     "output_type": "stream",
     "text": [
      "Training...\n",
      "Epoch  1, CIFAR-10 Batch 1:  Loss:     2.3025 Validation Accuracy: 0.098000\n",
      "Epoch  1, CIFAR-10 Batch 2:  Loss:     2.2883 Validation Accuracy: 0.126000\n",
      "Epoch  1, CIFAR-10 Batch 3:  Loss:     2.2764 Validation Accuracy: 0.131400\n",
      "Epoch  1, CIFAR-10 Batch 4:  Loss:     2.2834 Validation Accuracy: 0.139000\n",
      "Epoch  1, CIFAR-10 Batch 5:  Loss:     2.2581 Validation Accuracy: 0.141400\n",
      "Epoch  2, CIFAR-10 Batch 1:  Loss:     2.2372 Validation Accuracy: 0.144000\n",
      "Epoch  2, CIFAR-10 Batch 2:  Loss:     2.2603 Validation Accuracy: 0.135200\n",
      "Epoch  2, CIFAR-10 Batch 3:  Loss:     2.2581 Validation Accuracy: 0.140000\n",
      "Epoch  2, CIFAR-10 Batch 4:  Loss:     2.2647 Validation Accuracy: 0.154800\n",
      "Epoch  2, CIFAR-10 Batch 5:  Loss:     2.2372 Validation Accuracy: 0.159800\n",
      "Epoch  3, CIFAR-10 Batch 1:  Loss:     2.2320 Validation Accuracy: 0.156800\n",
      "Epoch  3, CIFAR-10 Batch 2:  Loss:     2.2374 Validation Accuracy: 0.162400\n",
      "Epoch  3, CIFAR-10 Batch 3:  Loss:     2.2310 Validation Accuracy: 0.162800\n",
      "Epoch  3, CIFAR-10 Batch 4:  Loss:     2.2126 Validation Accuracy: 0.170400\n",
      "Epoch  3, CIFAR-10 Batch 5:  Loss:     2.1614 Validation Accuracy: 0.181200\n",
      "Epoch  4, CIFAR-10 Batch 1:  Loss:     2.1548 Validation Accuracy: 0.185600\n",
      "Epoch  4, CIFAR-10 Batch 2:  Loss:     2.1568 Validation Accuracy: 0.193000\n",
      "Epoch  4, CIFAR-10 Batch 3:  Loss:     2.1622 Validation Accuracy: 0.193800\n",
      "Epoch  4, CIFAR-10 Batch 4:  Loss:     2.1234 Validation Accuracy: 0.191400\n",
      "Epoch  4, CIFAR-10 Batch 5:  Loss:     2.0985 Validation Accuracy: 0.196200\n",
      "Epoch  5, CIFAR-10 Batch 1:  Loss:     2.1035 Validation Accuracy: 0.196600\n",
      "Epoch  5, CIFAR-10 Batch 2:  Loss:     2.1102 Validation Accuracy: 0.204000\n",
      "Epoch  5, CIFAR-10 Batch 3:  Loss:     2.1275 Validation Accuracy: 0.202000\n",
      "Epoch  5, CIFAR-10 Batch 4:  Loss:     2.0775 Validation Accuracy: 0.198600\n",
      "Epoch  5, CIFAR-10 Batch 5:  Loss:     2.0125 Validation Accuracy: 0.216800\n",
      "Epoch  6, CIFAR-10 Batch 1:  Loss:     1.9988 Validation Accuracy: 0.222400\n",
      "Epoch  6, CIFAR-10 Batch 2:  Loss:     1.9477 Validation Accuracy: 0.253200\n",
      "Epoch  6, CIFAR-10 Batch 3:  Loss:     1.9080 Validation Accuracy: 0.260200\n",
      "Epoch  6, CIFAR-10 Batch 4:  Loss:     1.8367 Validation Accuracy: 0.260400\n",
      "Epoch  6, CIFAR-10 Batch 5:  Loss:     1.8659 Validation Accuracy: 0.266200\n",
      "Epoch  7, CIFAR-10 Batch 1:  Loss:     1.8285 Validation Accuracy: 0.269800\n",
      "Epoch  7, CIFAR-10 Batch 2:  Loss:     1.8438 Validation Accuracy: 0.272800\n",
      "Epoch  7, CIFAR-10 Batch 3:  Loss:     1.8378 Validation Accuracy: 0.280000\n",
      "Epoch  7, CIFAR-10 Batch 4:  Loss:     1.7569 Validation Accuracy: 0.286400\n",
      "Epoch  7, CIFAR-10 Batch 5:  Loss:     1.7885 Validation Accuracy: 0.332800\n",
      "Epoch  8, CIFAR-10 Batch 1:  Loss:     1.7531 Validation Accuracy: 0.348800\n",
      "Epoch  8, CIFAR-10 Batch 2:  Loss:     1.7512 Validation Accuracy: 0.390600\n",
      "Epoch  8, CIFAR-10 Batch 3:  Loss:     1.7287 Validation Accuracy: 0.389000\n",
      "Epoch  8, CIFAR-10 Batch 4:  Loss:     1.6822 Validation Accuracy: 0.383600\n",
      "Epoch  8, CIFAR-10 Batch 5:  Loss:     1.7212 Validation Accuracy: 0.387000\n",
      "Epoch  9, CIFAR-10 Batch 1:  Loss:     1.6710 Validation Accuracy: 0.410000\n",
      "Epoch  9, CIFAR-10 Batch 2:  Loss:     1.6942 Validation Accuracy: 0.411600\n",
      "Epoch  9, CIFAR-10 Batch 3:  Loss:     1.6396 Validation Accuracy: 0.415400\n",
      "Epoch  9, CIFAR-10 Batch 4:  Loss:     1.5759 Validation Accuracy: 0.427000\n",
      "Epoch  9, CIFAR-10 Batch 5:  Loss:     1.5936 Validation Accuracy: 0.425200\n",
      "Epoch 10, CIFAR-10 Batch 1:  Loss:     1.4805 Validation Accuracy: 0.465000\n",
      "Epoch 10, CIFAR-10 Batch 2:  Loss:     1.5310 Validation Accuracy: 0.471200\n",
      "Epoch 10, CIFAR-10 Batch 3:  Loss:     1.4616 Validation Accuracy: 0.473200\n",
      "Epoch 10, CIFAR-10 Batch 4:  Loss:     1.4292 Validation Accuracy: 0.481400\n",
      "Epoch 10, CIFAR-10 Batch 5:  Loss:     1.4387 Validation Accuracy: 0.483200\n",
      "Epoch 11, CIFAR-10 Batch 1:  Loss:     1.3620 Validation Accuracy: 0.495400\n",
      "Epoch 11, CIFAR-10 Batch 2:  Loss:     1.4172 Validation Accuracy: 0.495600\n",
      "Epoch 11, CIFAR-10 Batch 3:  Loss:     1.3610 Validation Accuracy: 0.503200\n",
      "Epoch 11, CIFAR-10 Batch 4:  Loss:     1.3497 Validation Accuracy: 0.497800\n",
      "Epoch 11, CIFAR-10 Batch 5:  Loss:     1.3487 Validation Accuracy: 0.502000\n",
      "Epoch 12, CIFAR-10 Batch 1:  Loss:     1.2932 Validation Accuracy: 0.506800\n",
      "Epoch 12, CIFAR-10 Batch 2:  Loss:     1.3549 Validation Accuracy: 0.510000\n",
      "Epoch 12, CIFAR-10 Batch 3:  Loss:     1.2612 Validation Accuracy: 0.532400\n",
      "Epoch 12, CIFAR-10 Batch 4:  Loss:     1.2131 Validation Accuracy: 0.545400\n",
      "Epoch 12, CIFAR-10 Batch 5:  Loss:     1.2243 Validation Accuracy: 0.547000\n",
      "Epoch 13, CIFAR-10 Batch 1:  Loss:     1.1556 Validation Accuracy: 0.557800\n",
      "Epoch 13, CIFAR-10 Batch 2:  Loss:     1.1950 Validation Accuracy: 0.550600\n",
      "Epoch 13, CIFAR-10 Batch 3:  Loss:     1.1590 Validation Accuracy: 0.558600\n",
      "Epoch 13, CIFAR-10 Batch 4:  Loss:     1.1209 Validation Accuracy: 0.567800\n",
      "Epoch 13, CIFAR-10 Batch 5:  Loss:     1.1291 Validation Accuracy: 0.560400\n",
      "Epoch 14, CIFAR-10 Batch 1:  Loss:     1.0892 Validation Accuracy: 0.570800\n",
      "Epoch 14, CIFAR-10 Batch 2:  Loss:     1.1109 Validation Accuracy: 0.566800\n",
      "Epoch 14, CIFAR-10 Batch 3:  Loss:     1.0882 Validation Accuracy: 0.572000\n",
      "Epoch 14, CIFAR-10 Batch 4:  Loss:     1.0746 Validation Accuracy: 0.568800\n",
      "Epoch 14, CIFAR-10 Batch 5:  Loss:     1.0739 Validation Accuracy: 0.570600\n",
      "Epoch 15, CIFAR-10 Batch 1:  Loss:     1.0245 Validation Accuracy: 0.576600\n",
      "Epoch 15, CIFAR-10 Batch 2:  Loss:     1.0501 Validation Accuracy: 0.581200\n",
      "Epoch 15, CIFAR-10 Batch 3:  Loss:     1.0245 Validation Accuracy: 0.581200\n",
      "Epoch 15, CIFAR-10 Batch 4:  Loss:     1.0168 Validation Accuracy: 0.581200\n",
      "Epoch 15, CIFAR-10 Batch 5:  Loss:     1.0122 Validation Accuracy: 0.590200\n",
      "Epoch 16, CIFAR-10 Batch 1:  Loss:     0.9808 Validation Accuracy: 0.587600\n",
      "Epoch 16, CIFAR-10 Batch 2:  Loss:     0.9992 Validation Accuracy: 0.589800\n",
      "Epoch 16, CIFAR-10 Batch 3:  Loss:     0.9912 Validation Accuracy: 0.582600\n",
      "Epoch 16, CIFAR-10 Batch 4:  Loss:     0.9782 Validation Accuracy: 0.590600\n",
      "Epoch 16, CIFAR-10 Batch 5:  Loss:     0.9790 Validation Accuracy: 0.590800\n",
      "Epoch 17, CIFAR-10 Batch 1:  Loss:     0.9487 Validation Accuracy: 0.585000\n",
      "Epoch 17, CIFAR-10 Batch 2:  Loss:     0.9537 Validation Accuracy: 0.598000\n",
      "Epoch 17, CIFAR-10 Batch 3:  Loss:     0.9370 Validation Accuracy: 0.597800\n",
      "Epoch 17, CIFAR-10 Batch 4:  Loss:     0.9424 Validation Accuracy: 0.594600\n",
      "Epoch 17, CIFAR-10 Batch 5:  Loss:     0.9398 Validation Accuracy: 0.598000\n",
      "Epoch 18, CIFAR-10 Batch 1:  Loss:     0.9367 Validation Accuracy: 0.591000\n",
      "Epoch 18, CIFAR-10 Batch 2:  Loss:     0.9352 Validation Accuracy: 0.594000\n",
      "Epoch 18, CIFAR-10 Batch 3:  Loss:     0.9379 Validation Accuracy: 0.585600\n",
      "Epoch 18, CIFAR-10 Batch 4:  Loss:     0.9188 Validation Accuracy: 0.588400\n",
      "Epoch 18, CIFAR-10 Batch 5:  Loss:     0.8971 Validation Accuracy: 0.603800\n",
      "Epoch 19, CIFAR-10 Batch 1:  Loss:     0.8983 Validation Accuracy: 0.606400\n",
      "Epoch 19, CIFAR-10 Batch 2:  Loss:     0.8923 Validation Accuracy: 0.608800\n",
      "Epoch 19, CIFAR-10 Batch 3:  Loss:     0.8731 Validation Accuracy: 0.605000\n",
      "Epoch 19, CIFAR-10 Batch 4:  Loss:     0.8757 Validation Accuracy: 0.602000\n",
      "Epoch 19, CIFAR-10 Batch 5:  Loss:     0.8638 Validation Accuracy: 0.608400\n",
      "Epoch 20, CIFAR-10 Batch 1:  Loss:     0.8475 Validation Accuracy: 0.608400\n",
      "Epoch 20, CIFAR-10 Batch 2:  Loss:     0.8593 Validation Accuracy: 0.607600\n",
      "Epoch 20, CIFAR-10 Batch 3:  Loss:     0.8438 Validation Accuracy: 0.612200\n",
      "Epoch 20, CIFAR-10 Batch 4:  Loss:     0.8439 Validation Accuracy: 0.605400\n",
      "Epoch 20, CIFAR-10 Batch 5:  Loss:     0.8330 Validation Accuracy: 0.614000\n",
      "Epoch 21, CIFAR-10 Batch 1:  Loss:     0.8167 Validation Accuracy: 0.612200\n",
      "Epoch 21, CIFAR-10 Batch 2:  Loss:     0.8364 Validation Accuracy: 0.610000\n",
      "Epoch 21, CIFAR-10 Batch 3:  Loss:     0.8092 Validation Accuracy: 0.617400\n",
      "Epoch 21, CIFAR-10 Batch 4:  Loss:     0.8172 Validation Accuracy: 0.615800\n",
      "Epoch 21, CIFAR-10 Batch 5:  Loss:     0.8241 Validation Accuracy: 0.612800\n",
      "Epoch 22, CIFAR-10 Batch 1:  Loss:     0.8161 Validation Accuracy: 0.610400\n",
      "Epoch 22, CIFAR-10 Batch 2:  Loss:     0.8033 Validation Accuracy: 0.623200\n",
      "Epoch 22, CIFAR-10 Batch 3:  Loss:     0.7810 Validation Accuracy: 0.621400\n",
      "Epoch 22, CIFAR-10 Batch 4:  Loss:     0.7704 Validation Accuracy: 0.625000\n",
      "Epoch 22, CIFAR-10 Batch 5:  Loss:     0.7777 Validation Accuracy: 0.621600\n",
      "Epoch 23, CIFAR-10 Batch 1:  Loss:     0.7847 Validation Accuracy: 0.610000\n",
      "Epoch 23, CIFAR-10 Batch 2:  Loss:     0.7800 Validation Accuracy: 0.620400\n",
      "Epoch 23, CIFAR-10 Batch 3:  Loss:     0.7558 Validation Accuracy: 0.621800\n",
      "Epoch 23, CIFAR-10 Batch 4:  Loss:     0.7573 Validation Accuracy: 0.621200\n",
      "Epoch 23, CIFAR-10 Batch 5:  Loss:     0.7654 Validation Accuracy: 0.622600\n",
      "Epoch 24, CIFAR-10 Batch 1:  Loss:     0.7733 Validation Accuracy: 0.608000\n",
      "Epoch 24, CIFAR-10 Batch 2:  Loss:     0.7478 Validation Accuracy: 0.625800\n",
      "Epoch 24, CIFAR-10 Batch 3:  Loss:     0.7412 Validation Accuracy: 0.623000\n",
      "Epoch 24, CIFAR-10 Batch 4:  Loss:     0.7386 Validation Accuracy: 0.625000\n",
      "Epoch 24, CIFAR-10 Batch 5:  Loss:     0.7675 Validation Accuracy: 0.611200\n",
      "Epoch 25, CIFAR-10 Batch 1:  Loss:     0.7375 Validation Accuracy: 0.615800\n",
      "Epoch 25, CIFAR-10 Batch 2:  Loss:     0.7322 Validation Accuracy: 0.625400\n",
      "Epoch 25, CIFAR-10 Batch 3:  Loss:     0.7277 Validation Accuracy: 0.622600\n",
      "Epoch 25, CIFAR-10 Batch 4:  Loss:     0.7024 Validation Accuracy: 0.632200\n",
      "Epoch 25, CIFAR-10 Batch 5:  Loss:     0.7434 Validation Accuracy: 0.615200\n",
      "Epoch 26, CIFAR-10 Batch 1:  Loss:     0.7202 Validation Accuracy: 0.618600\n",
      "Epoch 26, CIFAR-10 Batch 2:  Loss:     0.7220 Validation Accuracy: 0.621200\n",
      "Epoch 26, CIFAR-10 Batch 3:  Loss:     0.7199 Validation Accuracy: 0.619400\n",
      "Epoch 26, CIFAR-10 Batch 4:  Loss:     0.6994 Validation Accuracy: 0.626000\n",
      "Epoch 26, CIFAR-10 Batch 5:  Loss:     0.7195 Validation Accuracy: 0.620200\n",
      "Epoch 27, CIFAR-10 Batch 1:  Loss:     0.7295 Validation Accuracy: 0.614800\n",
      "Epoch 27, CIFAR-10 Batch 2:  Loss:     0.7073 Validation Accuracy: 0.629200\n",
      "Epoch 27, CIFAR-10 Batch 3:  Loss:     0.7107 Validation Accuracy: 0.622400\n",
      "Epoch 27, CIFAR-10 Batch 4:  Loss:     0.6977 Validation Accuracy: 0.618600\n",
      "Epoch 27, CIFAR-10 Batch 5:  Loss:     0.6927 Validation Accuracy: 0.627000\n",
      "Epoch 28, CIFAR-10 Batch 1:  Loss:     0.7013 Validation Accuracy: 0.619600\n",
      "Epoch 28, CIFAR-10 Batch 2:  Loss:     0.7023 Validation Accuracy: 0.622800\n",
      "Epoch 28, CIFAR-10 Batch 3:  Loss:     0.6952 Validation Accuracy: 0.620000\n",
      "Epoch 28, CIFAR-10 Batch 4:  Loss:     0.6866 Validation Accuracy: 0.617600\n",
      "Epoch 28, CIFAR-10 Batch 5:  Loss:     0.6967 Validation Accuracy: 0.619800\n",
      "Epoch 29, CIFAR-10 Batch 1:  Loss:     0.6962 Validation Accuracy: 0.616600\n",
      "Epoch 29, CIFAR-10 Batch 2:  Loss:     0.6847 Validation Accuracy: 0.621400\n",
      "Epoch 29, CIFAR-10 Batch 3:  Loss:     0.6646 Validation Accuracy: 0.623800\n",
      "Epoch 29, CIFAR-10 Batch 4:  Loss:     0.6449 Validation Accuracy: 0.632600\n",
      "Epoch 29, CIFAR-10 Batch 5:  Loss:     0.6437 Validation Accuracy: 0.630200\n",
      "Epoch 30, CIFAR-10 Batch 1:  Loss:     0.6619 Validation Accuracy: 0.620600\n",
      "Epoch 30, CIFAR-10 Batch 2:  Loss:     0.6615 Validation Accuracy: 0.628200\n",
      "Epoch 30, CIFAR-10 Batch 3:  Loss:     0.6666 Validation Accuracy: 0.616000\n",
      "Epoch 30, CIFAR-10 Batch 4:  Loss:     0.6482 Validation Accuracy: 0.627800\n",
      "Epoch 30, CIFAR-10 Batch 5:  Loss:     0.6397 Validation Accuracy: 0.627800\n",
      "Epoch 31, CIFAR-10 Batch 1:  Loss:     0.6442 Validation Accuracy: 0.624800\n",
      "Epoch 31, CIFAR-10 Batch 2:  Loss:     0.6619 Validation Accuracy: 0.622600\n",
      "Epoch 31, CIFAR-10 Batch 3:  Loss:     0.6361 Validation Accuracy: 0.628400\n",
      "Epoch 31, CIFAR-10 Batch 4:  Loss:     0.6354 Validation Accuracy: 0.623400\n",
      "Epoch 31, CIFAR-10 Batch 5:  Loss:     0.6342 Validation Accuracy: 0.622800\n",
      "Epoch 32, CIFAR-10 Batch 1:  Loss:     0.6459 Validation Accuracy: 0.620600\n",
      "Epoch 32, CIFAR-10 Batch 2:  Loss:     0.6738 Validation Accuracy: 0.620400\n",
      "Epoch 32, CIFAR-10 Batch 3:  Loss:     0.6223 Validation Accuracy: 0.630000\n",
      "Epoch 32, CIFAR-10 Batch 4:  Loss:     0.6125 Validation Accuracy: 0.628800\n",
      "Epoch 32, CIFAR-10 Batch 5:  Loss:     0.6306 Validation Accuracy: 0.623400\n",
      "Epoch 33, CIFAR-10 Batch 1:  Loss:     0.6106 Validation Accuracy: 0.634800\n",
      "Epoch 33, CIFAR-10 Batch 2:  Loss:     0.6148 Validation Accuracy: 0.634800\n",
      "Epoch 33, CIFAR-10 Batch 3:  Loss:     0.6225 Validation Accuracy: 0.623800\n",
      "Epoch 33, CIFAR-10 Batch 4:  Loss:     0.6076 Validation Accuracy: 0.624200\n",
      "Epoch 33, CIFAR-10 Batch 5:  Loss:     0.6067 Validation Accuracy: 0.629600\n",
      "Epoch 34, CIFAR-10 Batch 1:  Loss:     0.5883 Validation Accuracy: 0.632200\n",
      "Epoch 34, CIFAR-10 Batch 2:  Loss:     0.5957 Validation Accuracy: 0.635200\n",
      "Epoch 34, CIFAR-10 Batch 3:  Loss:     0.5871 Validation Accuracy: 0.631800\n",
      "Epoch 34, CIFAR-10 Batch 4:  Loss:     0.5729 Validation Accuracy: 0.635000\n",
      "Epoch 34, CIFAR-10 Batch 5:  Loss:     0.5870 Validation Accuracy: 0.631200\n",
      "Epoch 35, CIFAR-10 Batch 1:  Loss:     0.5741 Validation Accuracy: 0.632400\n",
      "Epoch 35, CIFAR-10 Batch 2:  Loss:     0.5864 Validation Accuracy: 0.636800\n",
      "Epoch 35, CIFAR-10 Batch 3:  Loss:     0.5736 Validation Accuracy: 0.635800\n",
      "Epoch 35, CIFAR-10 Batch 4:  Loss:     0.5580 Validation Accuracy: 0.634600\n",
      "Epoch 35, CIFAR-10 Batch 5:  Loss:     0.5717 Validation Accuracy: 0.630000\n",
      "Epoch 36, CIFAR-10 Batch 1:  Loss:     0.5552 Validation Accuracy: 0.635400\n",
      "Epoch 36, CIFAR-10 Batch 2:  Loss:     0.5601 Validation Accuracy: 0.640200\n",
      "Epoch 36, CIFAR-10 Batch 3:  Loss:     0.5616 Validation Accuracy: 0.633200\n",
      "Epoch 36, CIFAR-10 Batch 4:  Loss:     0.5409 Validation Accuracy: 0.633200\n",
      "Epoch 36, CIFAR-10 Batch 5:  Loss:     0.5507 Validation Accuracy: 0.635800\n",
      "Epoch 37, CIFAR-10 Batch 1:  Loss:     0.5326 Validation Accuracy: 0.638200\n",
      "Epoch 37, CIFAR-10 Batch 2:  Loss:     0.5461 Validation Accuracy: 0.638000\n",
      "Epoch 37, CIFAR-10 Batch 3:  Loss:     0.5475 Validation Accuracy: 0.631200\n",
      "Epoch 37, CIFAR-10 Batch 4:  Loss:     0.5340 Validation Accuracy: 0.632000\n",
      "Epoch 37, CIFAR-10 Batch 5:  Loss:     0.5427 Validation Accuracy: 0.637200\n",
      "Epoch 38, CIFAR-10 Batch 1:  Loss:     0.5261 Validation Accuracy: 0.641600\n",
      "Epoch 38, CIFAR-10 Batch 2:  Loss:     0.5389 Validation Accuracy: 0.636000\n",
      "Epoch 38, CIFAR-10 Batch 3:  Loss:     0.5329 Validation Accuracy: 0.633000\n",
      "Epoch 38, CIFAR-10 Batch 4:  Loss:     0.5155 Validation Accuracy: 0.634000\n",
      "Epoch 38, CIFAR-10 Batch 5:  Loss:     0.5310 Validation Accuracy: 0.635800\n",
      "Epoch 39, CIFAR-10 Batch 1:  Loss:     0.5147 Validation Accuracy: 0.637800\n",
      "Epoch 39, CIFAR-10 Batch 2:  Loss:     0.5282 Validation Accuracy: 0.633400\n",
      "Epoch 39, CIFAR-10 Batch 3:  Loss:     0.5201 Validation Accuracy: 0.635800\n",
      "Epoch 39, CIFAR-10 Batch 4:  Loss:     0.4997 Validation Accuracy: 0.634600\n",
      "Epoch 39, CIFAR-10 Batch 5:  Loss:     0.5190 Validation Accuracy: 0.633200\n",
      "Epoch 40, CIFAR-10 Batch 1:  Loss:     0.5108 Validation Accuracy: 0.637000\n",
      "Epoch 40, CIFAR-10 Batch 2:  Loss:     0.5104 Validation Accuracy: 0.640600\n",
      "Epoch 40, CIFAR-10 Batch 3:  Loss:     0.5051 Validation Accuracy: 0.635800\n",
      "Epoch 40, CIFAR-10 Batch 4:  Loss:     0.4885 Validation Accuracy: 0.632000\n",
      "Epoch 40, CIFAR-10 Batch 5:  Loss:     0.5090 Validation Accuracy: 0.636200\n",
      "Epoch 41, CIFAR-10 Batch 1:  Loss:     0.5012 Validation Accuracy: 0.636400\n",
      "Epoch 41, CIFAR-10 Batch 2:  Loss:     0.5081 Validation Accuracy: 0.642200\n",
      "Epoch 41, CIFAR-10 Batch 3:  Loss:     0.5003 Validation Accuracy: 0.635800\n",
      "Epoch 41, CIFAR-10 Batch 4:  Loss:     0.4833 Validation Accuracy: 0.634800\n",
      "Epoch 41, CIFAR-10 Batch 5:  Loss:     0.5109 Validation Accuracy: 0.634000\n",
      "Epoch 42, CIFAR-10 Batch 1:  Loss:     0.5081 Validation Accuracy: 0.631800\n",
      "Epoch 42, CIFAR-10 Batch 2:  Loss:     0.5018 Validation Accuracy: 0.637600\n",
      "Epoch 42, CIFAR-10 Batch 3:  Loss:     0.5111 Validation Accuracy: 0.626600\n",
      "Epoch 42, CIFAR-10 Batch 4:  Loss:     0.5007 Validation Accuracy: 0.622600\n",
      "Epoch 42, CIFAR-10 Batch 5:  Loss:     0.5182 Validation Accuracy: 0.623000\n",
      "Epoch 43, CIFAR-10 Batch 1:  Loss:     0.5145 Validation Accuracy: 0.624200\n",
      "Epoch 43, CIFAR-10 Batch 2:  Loss:     0.5001 Validation Accuracy: 0.628600\n",
      "Epoch 43, CIFAR-10 Batch 3:  Loss:     0.5279 Validation Accuracy: 0.622000\n",
      "Epoch 43, CIFAR-10 Batch 4:  Loss:     0.4761 Validation Accuracy: 0.632400\n",
      "Epoch 43, CIFAR-10 Batch 5:  Loss:     0.4979 Validation Accuracy: 0.632000\n",
      "Epoch 44, CIFAR-10 Batch 1:  Loss:     0.4733 Validation Accuracy: 0.642800\n",
      "Epoch 44, CIFAR-10 Batch 2:  Loss:     0.5039 Validation Accuracy: 0.623400\n",
      "Epoch 44, CIFAR-10 Batch 3:  Loss:     0.4918 Validation Accuracy: 0.634800\n",
      "Epoch 44, CIFAR-10 Batch 4:  Loss:     0.4672 Validation Accuracy: 0.632600\n",
      "Epoch 44, CIFAR-10 Batch 5:  Loss:     0.4816 Validation Accuracy: 0.637000\n",
      "Epoch 45, CIFAR-10 Batch 1:  Loss:     0.4827 Validation Accuracy: 0.634800\n",
      "Epoch 45, CIFAR-10 Batch 2:  Loss:     0.4861 Validation Accuracy: 0.632000\n",
      "Epoch 45, CIFAR-10 Batch 3:  Loss:     0.4947 Validation Accuracy: 0.631800\n",
      "Epoch 45, CIFAR-10 Batch 4:  Loss:     0.4626 Validation Accuracy: 0.632400\n",
      "Epoch 45, CIFAR-10 Batch 5:  Loss:     0.4862 Validation Accuracy: 0.630800\n",
      "Epoch 46, CIFAR-10 Batch 1:  Loss:     0.4717 Validation Accuracy: 0.636800\n",
      "Epoch 46, CIFAR-10 Batch 2:  Loss:     0.4512 Validation Accuracy: 0.642200\n",
      "Epoch 46, CIFAR-10 Batch 3:  Loss:     0.4561 Validation Accuracy: 0.640600\n",
      "Epoch 46, CIFAR-10 Batch 4:  Loss:     0.4349 Validation Accuracy: 0.631200\n",
      "Epoch 46, CIFAR-10 Batch 5:  Loss:     0.4559 Validation Accuracy: 0.634000\n",
      "Epoch 47, CIFAR-10 Batch 1:  Loss:     0.4591 Validation Accuracy: 0.638200\n",
      "Epoch 47, CIFAR-10 Batch 2:  Loss:     0.4412 Validation Accuracy: 0.643800\n",
      "Epoch 47, CIFAR-10 Batch 3:  Loss:     0.4460 Validation Accuracy: 0.639800\n",
      "Epoch 47, CIFAR-10 Batch 4:  Loss:     0.4258 Validation Accuracy: 0.637800\n",
      "Epoch 47, CIFAR-10 Batch 5:  Loss:     0.4454 Validation Accuracy: 0.633000\n",
      "Epoch 48, CIFAR-10 Batch 1:  Loss:     0.4339 Validation Accuracy: 0.642800\n",
      "Epoch 48, CIFAR-10 Batch 2:  Loss:     0.4333 Validation Accuracy: 0.641000\n",
      "Epoch 48, CIFAR-10 Batch 3:  Loss:     0.4396 Validation Accuracy: 0.637200\n",
      "Epoch 48, CIFAR-10 Batch 4:  Loss:     0.4188 Validation Accuracy: 0.635200\n",
      "Epoch 48, CIFAR-10 Batch 5:  Loss:     0.4359 Validation Accuracy: 0.639200\n",
      "Epoch 49, CIFAR-10 Batch 1:  Loss:     0.4305 Validation Accuracy: 0.641600\n",
      "Epoch 49, CIFAR-10 Batch 2:  Loss:     0.4273 Validation Accuracy: 0.641200\n",
      "Epoch 49, CIFAR-10 Batch 3:  Loss:     0.4272 Validation Accuracy: 0.645000\n",
      "Epoch 49, CIFAR-10 Batch 4:  Loss:     0.4268 Validation Accuracy: 0.628000\n",
      "Epoch 49, CIFAR-10 Batch 5:  Loss:     0.4370 Validation Accuracy: 0.632800\n",
      "Epoch 50, CIFAR-10 Batch 1:  Loss:     0.4257 Validation Accuracy: 0.639800\n",
      "Epoch 50, CIFAR-10 Batch 2:  Loss:     0.4202 Validation Accuracy: 0.642400\n",
      "Epoch 50, CIFAR-10 Batch 3:  Loss:     0.4221 Validation Accuracy: 0.641400\n",
      "Epoch 50, CIFAR-10 Batch 4:  Loss:     0.4205 Validation Accuracy: 0.626400\n",
      "Epoch 50, CIFAR-10 Batch 5:  Loss:     0.4418 Validation Accuracy: 0.631400\n"
     ]
    }
   ],
   "source": [
    "\"\"\"\n",
    "DON'T MODIFY ANYTHING IN THIS CELL\n",
    "\"\"\"\n",
    "save_model_path = './image_classification'\n",
    "\n",
    "print('Training...')\n",
    "with tf.Session() as sess:\n",
    "    # Initializing the variables\n",
    "    sess.run(tf.global_variables_initializer())\n",
    "    \n",
    "    # Training cycle\n",
    "    for epoch in range(epochs):\n",
    "        # Loop over all batches\n",
    "        n_batches = 5\n",
    "        for batch_i in range(1, n_batches + 1):\n",
    "            for batch_features, batch_labels in helper.load_preprocess_training_batch(batch_i, batch_size):\n",
    "                train_neural_network(sess, optimizer, keep_probability, batch_features, batch_labels)\n",
    "            print('Epoch {:>2}, CIFAR-10 Batch {}:  '.format(epoch + 1, batch_i), end='')\n",
    "            print_stats(sess, batch_features, batch_labels, cost, accuracy)\n",
    "            \n",
    "    # Save Model\n",
    "    saver = tf.train.Saver()\n",
    "    save_path = saver.save(sess, save_model_path)"
   ]
  },
  {
   "cell_type": "markdown",
   "metadata": {
    "deletable": true,
    "editable": true
   },
   "source": [
    "# Checkpoint\n",
    "The model has been saved to disk.\n",
    "## Test Model\n",
    "Test your model against the test dataset.  This will be your final accuracy. You should have an accuracy greater than 50%. If you don't, keep tweaking the model architecture and parameters."
   ]
  },
  {
   "cell_type": "code",
   "execution_count": 28,
   "metadata": {
    "collapsed": false,
    "deletable": true,
    "editable": true
   },
   "outputs": [
    {
     "name": "stdout",
     "output_type": "stream",
     "text": [
      "Testing Accuracy: 0.6220789551734924\n",
      "\n"
     ]
    },
    {
     "data": {
      "image/png": "[encoded data removed]",
      "text/plain": [
       "<matplotlib.figure.Figure at 0x7fbbc866acc0>"
      ]
     },
     "metadata": {
      "image/png": {
       "height": 319,
       "width": 355
      }
     },
     "output_type": "display_data"
    }
   ],
   "source": [
    "\"\"\"\n",
    "DON'T MODIFY ANYTHING IN THIS CELL\n",
    "\"\"\"\n",
    "%matplotlib inline\n",
    "%config InlineBackend.figure_format = 'retina'\n",
    "\n",
    "import tensorflow as tf\n",
    "import pickle\n",
    "import helper\n",
    "import random\n",
    "\n",
    "# Set batch size if not already set\n",
    "try:\n",
    "    if batch_size:\n",
    "        pass\n",
    "except NameError:\n",
    "    batch_size = 64\n",
    "\n",
    "save_model_path = './image_classification'\n",
    "n_samples = 4\n",
    "top_n_predictions = 3\n",
    "\n",
    "def test_model():\n",
    "    \"\"\"\n",
    "    Test the saved model against the test dataset\n",
    "    \"\"\"\n",
    "\n",
    "    test_features, test_labels = pickle.load(open('preprocess_training.p', mode='rb'))\n",
    "    loaded_graph = tf.Graph()\n",
    "\n",
    "    with tf.Session(graph=loaded_graph) as sess:\n",
    "        # Load model\n",
    "        loader = tf.train.import_meta_graph(save_model_path + '.meta')\n",
    "        loader.restore(sess, save_model_path)\n",
    "\n",
    "        # Get Tensors from loaded model\n",
    "        loaded_x = loaded_graph.get_tensor_by_name('x:0')\n",
    "        loaded_y = loaded_graph.get_tensor_by_name('y:0')\n",
    "        loaded_keep_prob = loaded_graph.get_tensor_by_name('keep_prob:0')\n",
    "        loaded_logits = loaded_graph.get_tensor_by_name('logits:0')\n",
    "        loaded_acc = loaded_graph.get_tensor_by_name('accuracy:0')\n",
    "        \n",
    "        # Get accuracy in batches for memory limitations\n",
    "        test_batch_acc_total = 0\n",
    "        test_batch_count = 0\n",
    "        \n",
    "        for train_feature_batch, train_label_batch in helper.batch_features_labels(test_features, test_labels, batch_size):\n",
    "            test_batch_acc_total += sess.run(\n",
    "                loaded_acc,\n",
    "                feed_dict={loaded_x: train_feature_batch, loaded_y: train_label_batch, loaded_keep_prob: 1.0})\n",
    "            test_batch_count += 1\n",
    "\n",
    "        print('Testing Accuracy: {}\\n'.format(test_batch_acc_total/test_batch_count))\n",
    "\n",
    "        # Print Random Samples\n",
    "        random_test_features, random_test_labels = tuple(zip(*random.sample(list(zip(test_features, test_labels)), n_samples)))\n",
    "        random_test_predictions = sess.run(\n",
    "            tf.nn.top_k(tf.nn.softmax(loaded_logits), top_n_predictions),\n",
    "            feed_dict={loaded_x: random_test_features, loaded_y: random_test_labels, loaded_keep_prob: 1.0})\n",
    "        helper.display_image_predictions(random_test_features, random_test_labels, random_test_predictions)\n",
    "\n",
    "\n",
    "test_model()"
   ]
  },
  {
   "cell_type": "markdown",
   "metadata": {
    "deletable": true,
    "editable": true
   },
   "source": [
    "## Why 50-70% Accuracy?\n",
    "You might be wondering why you can't get an accuracy any higher. First things first, 50% isn't bad for a simple CNN.  Pure guessing would get you 10% accuracy. However, you might notice people are getting scores [well above 70%](http://rodrigob.github.io/are_we_there_yet/build/classification_datasets_results.html#43494641522d3130).  That's because we haven't taught you all there is to know about neural networks. We still need to cover a few more techniques.\n",
    "## Submitting This Project\n",
    "When submitting this project, make sure to run all the cells before saving the notebook.  Save the notebook file as \"dlnd_image_classification.ipynb\" and save it as a HTML file under \"File\" -> \"Download as\".  Include the \"helper.py\" and \"problem_unittests.py\" files in your submission."
   ]
  }
 ],
 "metadata": {
  "kernelspec": {
   "display_name": "Python 3",
   "language": "python",
   "name": "python3"
  },
  "language_info": {
   "codemirror_mode": {
    "name": "ipython",
    "version": 3
   },
   "file_extension": ".py",
   "mimetype": "text/x-python",
   "name": "python",
   "nbconvert_exporter": "python",
   "pygments_lexer": "ipython3",
   "version": "3.5.2"
  },
  "widgets": {
   "state": {},
   "version": "1.1.2"
  }
 },
 "nbformat": 4,
 "nbformat_minor": 0
}
